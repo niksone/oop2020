{
 "cells": [
  {
   "cell_type": "markdown",
   "metadata": {},
   "source": [
    "## 4. Умовні оператори"
   ]
  },
  {
   "cell_type": "markdown",
   "metadata": {},
   "source": [
    "## Змінні типу Bool. Умовний оператор "
   ]
  },
  {
   "cell_type": "markdown",
   "metadata": {},
   "source": [
    "#### Управління логікою програми здійснюється змінною типу bool. Змінна типу bool має лише два значення: True і False."
   ]
  },
  {
   "cell_type": "code",
   "execution_count": null,
   "metadata": {},
   "outputs": [],
   "source": [
    "is_connected = True\n",
    "print(type(is_connected))\n",
    "print(not is_connected)\n",
    "is_connected = False\n",
    "print(type(not is_connected))\n",
    "print(not is_connected)"
   ]
  },
  {
   "cell_type": "code",
   "execution_count": null,
   "metadata": {},
   "outputs": [],
   "source": [
    "a, b = 5, 6\n",
    "a_greater_b = a > b\n",
    "print(a_greater_b)\n",
    "print(type(a_greater_b))"
   ]
  },
  {
   "cell_type": "code",
   "execution_count": null,
   "metadata": {},
   "outputs": [],
   "source": [
    "c = bool(1)\n",
    "print(c)\n",
    "print(type(c))"
   ]
  },
  {
   "cell_type": "markdown",
   "metadata": {},
   "source": [
    "#### У найпростішому вигляді умовнна конструкція мови Python має наступний вигляд:\n",
    "\n",
    "if Умова :\n",
    "   \n",
    "    Блок інструкцій 1\n",
    "\n",
    "else:\n",
    "   \n",
    "    Блок інструкцій 2"
   ]
  },
  {
   "cell_type": "markdown",
   "metadata": {},
   "source": [
    "#### Приклад\n",
    "У випадку, коли число ділиться 9, надрукувати його з позначкою \"ТАК\", інакше - \"НІ\", яка розташовується на наступному рядку "
   ]
  },
  {
   "cell_type": "code",
   "execution_count": null,
   "metadata": {},
   "outputs": [],
   "source": [
    "a = int(input(\"Введить число: \"))\n",
    "if a % 9 == 0:\n",
    "    print(a)\n",
    "    print(\"ТАК\")\n",
    "else:\n",
    "    print(\"НІ\")"
   ]
  },
  {
   "cell_type": "markdown",
   "metadata": {},
   "source": [
    "#### У випадку, коли Блок інструкцій складається з однієї інструкції, тоді можна використовувати скорочений синтаксис :\n",
    "\n",
    "Інструкція  1 if Умова else Інструкція  2"
   ]
  },
  {
   "cell_type": "code",
   "execution_count": null,
   "metadata": {},
   "outputs": [],
   "source": [
    "is_debts = True  \n",
    "comission = 0.05 if is_debts else 0.03\n",
    "print(comission)"
   ]
  },
  {
   "cell_type": "markdown",
   "metadata": {},
   "source": [
    "#### Приклад\n",
    "Надрукувати, що число парне або непарне "
   ]
  },
  {
   "cell_type": "code",
   "execution_count": null,
   "metadata": {},
   "outputs": [],
   "source": [
    "a = int(input(\"Введить число: \"))\n",
    "print(str(a) + \" is \" + (\"парне\" if a % 2 == 0 else \"непарне\"))"
   ]
  },
  {
   "cell_type": "markdown",
   "metadata": {},
   "source": [
    "#### Умовні конструкції можуть бути вкладеними \n",
    "\n",
    "if Умова1:\n",
    "    \n",
    "    if Умова2:\n",
    "    \n",
    "        Блок Інструкцій  1\n",
    "        \n",
    "        ...\n",
    "        \n",
    "    else:\n",
    "    \n",
    "        Блок Інструкцій  2\n",
    "        \n",
    "else:\n",
    "   \n",
    "    Блок Інструкцій 3"
   ]
  },
  {
   "cell_type": "markdown",
   "metadata": {},
   "source": [
    "#### Приклад\n",
    "Визначити, до якої чверті відноситься крапка, за її координатами **(x, y)**"
   ]
  },
  {
   "cell_type": "code",
   "execution_count": null,
   "metadata": {},
   "outputs": [],
   "source": [
    "x = int(input(\"Введить x: \"))\n",
    "y = int(input(\"Введить y: \"))\n",
    "if x > 0:\n",
    "    if y > 0:               # x>0, y>0\n",
    "        print(\"Перша чверть\")\n",
    "    else:                   # x>0, y<0\n",
    "        print(\"Четверта чверть\")\n",
    "else:\n",
    "    if y > 0:               # x<0, y>0\n",
    "        print(\"Друга чверть\")\n",
    "    else:                   # x<0, y<0\n",
    "        print(\"Третя чверть\")"
   ]
  },
  {
   "cell_type": "markdown",
   "metadata": {},
   "source": [
    "#### Але, не має сенсу використовувати підвищену вкладеність умовних конструкцій. У випадку підвищеної вкладеності умовних конструкцій складність коду підвищується (\"спагеті-код\") і розібратися з ним дуже складно. "
   ]
  },
  {
   "cell_type": "markdown",
   "metadata": {},
   "source": [
    "#### Блок *if-elif-else* (каскадна конструкція)\n",
    "if Умова 1:\n",
    "   \n",
    "    Блок інструкцій 1\n",
    "\n",
    "elif Умова 2:\n",
    "\n",
    "    Блок інструкцій 2\n",
    "    \n",
    "...\n",
    "\n",
    "elif Умова n:\n",
    "\n",
    "    Блок інструкцій n\n",
    "    \n",
    "else:\n",
    "   \n",
    "    Блок інструкцій n+1"
   ]
  },
  {
   "cell_type": "code",
   "execution_count": null,
   "metadata": {},
   "outputs": [],
   "source": [
    "x = int(input(\"Введить x: \"))\n",
    "y = int(input(\"Введить y: \"))\n",
    "if x > 0 and y > 0:\n",
    "    print(\"Перша чверть\")\n",
    "elif x > 0 and y < 0:\n",
    "    print(\"Четверта чверть\")\n",
    "elif y > 0:\n",
    "    print(\"Друга чверть\")\n",
    "else:\n",
    "    print(\"Треття чверть\")"
   ]
  },
  {
   "cell_type": "code",
   "execution_count": 45,
   "metadata": {},
   "outputs": [],
   "source": [
    "list=[1,2,3,4,5,6,7,8,9,10,11,12,13.14,15,16,17,18.19,20]"
   ]
  },
  {
   "cell_type": "code",
   "execution_count": null,
   "metadata": {},
   "outputs": [],
   "source": [
    "x=17\n",
    "if x in list:\n",
    "    print(x,\"Знаходиться у списку\")\n",
    "else:\n",
    "    print(\"Не знайдено в списку\")"
   ]
  },
  {
   "cell_type": "code",
   "execution_count": null,
   "metadata": {},
   "outputs": [],
   "source": [
    "x=25\n",
    "if x in list:\n",
    "    print(x,\"Знаходиться у списку\")\n",
    "else:\n",
    "    print(\"Не знайдено в списку\")"
   ]
  },
  {
   "cell_type": "markdown",
   "metadata": {},
   "source": [
    "### У Python для умовних конструкцій *if-else* можна використовувати лише першу її частину *if*, але не можна використовувати її другу частину *else* "
   ]
  },
  {
   "cell_type": "code",
   "execution_count": null,
   "metadata": {},
   "outputs": [],
   "source": [
    "x=17\n",
    "if x in list:\n",
    "    print(x,\"Знаходиться у списку\")"
   ]
  },
  {
   "cell_type": "markdown",
   "metadata": {},
   "source": [
    "## Умовна конструкція if - elif - else"
   ]
  },
  {
   "cell_type": "code",
   "execution_count": null,
   "metadata": {},
   "outputs": [],
   "source": [
    "x = int(input(\"Введить x: \"))\n",
    "if x>=20:\n",
    "    print(x,\" більше ніж 20\")\n",
    "elif x <20 and x>=10:\n",
    "    print(x,\" більше ніж 10 \")\n",
    "else:\n",
    "    print(x,\" менше ніж 10 \")"
   ]
  },
  {
   "cell_type": "code",
   "execution_count": null,
   "metadata": {},
   "outputs": [],
   "source": [
    "#вкладені конструкції if. Умова if знаходиться всередині іншої умвои if\n",
    "x = int(input(\"Введить x: \"))\n",
    "if x>=10 and x<=20:\n",
    "    print(x,\" менше  ніж 20\")\n",
    "    if x>=10:\n",
    "        print(x,\" більше ніж 10\")"
   ]
  },
  {
   "cell_type": "markdown",
   "metadata": {},
   "source": [
    "# Скорочений запис умовного оператора  if-else"
   ]
  },
  {
   "cell_type": "code",
   "execution_count": null,
   "metadata": {},
   "outputs": [],
   "source": [
    "# Скорочений запис умовного оператора дозволяє записати його в один рядок \n",
    "\n",
    "x = int(input(\"Введить x: \"))\n",
    "\n",
    "print(x,\" більше ніж 20\") if x>20 else print(x,\"is менше ніж 20\") "
   ]
  },
  {
   "cell_type": "code",
   "execution_count": null,
   "metadata": {},
   "outputs": [],
   "source": [
    "# вкладені оператори if, розташовані в одному рядку \n",
    "x = int(input(\"Введить x: \"))\n",
    "print(x,\"менше ніж 10\") if x<10 else print(x,\"більше ніж 20\") if x>20 else print(x,\" менше ніж 20\")"
   ]
  },
  {
   "cell_type": "markdown",
   "metadata": {},
   "source": [
    "# Цикл for "
   ]
  },
  {
   "cell_type": "code",
   "execution_count": null,
   "metadata": {},
   "outputs": [],
   "source": [
    "#Цикл for використовує об'єкти ітерації \n",
    "x=[1,2,3,4,5,6,7]\n",
    "\n",
    "for i in x:\n",
    "    print(i)"
   ]
  },
  {
   "cell_type": "markdown",
   "metadata": {},
   "source": [
    "## Range()\n",
    "* Функція діапазону встановлює початкове і кінцеве значення.\n",
    "* У випадку, коли встановлюється одне значення, початок діапазону розпочинається з 0."
   ]
  },
  {
   "cell_type": "code",
   "execution_count": null,
   "metadata": {},
   "outputs": [],
   "source": [
    "x=1\n",
    "for i in range(11):\n",
    "        print(x,\" * \", i,\" = \",x*i)"
   ]
  },
  {
   "cell_type": "code",
   "execution_count": null,
   "metadata": {},
   "outputs": [],
   "source": [
    "# вкладений цикл for. Створення таблиц для елементів списку 2 і 3\n",
    "x=[2,3]\n",
    "for j in x:\n",
    "    for i in range(11):\n",
    "        print(j,\" * \", i,\" = \",j*i)"
   ]
  },
  {
   "cell_type": "markdown",
   "metadata": {},
   "source": [
    "# цикл while "
   ]
  },
  {
   "cell_type": "code",
   "execution_count": null,
   "metadata": {},
   "outputs": [],
   "source": [
    "# простий цикл while \n",
    "x=0\n",
    "while x < 10:\n",
    "    print(x)\n",
    "    x+=1"
   ]
  },
  {
   "cell_type": "code",
   "execution_count": null,
   "metadata": {},
   "outputs": [],
   "source": [
    "# вкладений цикл while. Зверніть увагу на * при виконанні. Про що це вказує? \n",
    "x = 0\n",
    "y = 6\n",
    "while x < 5:\n",
    "    while y < 10:\n",
    "        print(x, \",\", y)\n",
    "        y +=1\n",
    "        x +=1"
   ]
  },
  {
   "cell_type": "markdown",
   "metadata": {},
   "source": [
    "# Управління циклом"
   ]
  },
  {
   "cell_type": "code",
   "execution_count": null,
   "metadata": {},
   "outputs": [],
   "source": [
    "# Переривання циклу конструкцією break (вихід із циклу). \n",
    "\n",
    "x=1\n",
    "while x < 10:\n",
    "    print(x)\n",
    "    x+=1\n",
    "    if x>5:\n",
    "        break"
   ]
  },
  {
   "cell_type": "code",
   "execution_count": null,
   "metadata": {},
   "outputs": [],
   "source": [
    "# pass пропуск послідовності інструкцій.\n",
    "x=1\n",
    "while x < 10:\n",
    "    print(x)\n",
    "    x+=1\n",
    "    if x==5:\n",
    "        pass\n",
    "        print(\"Застосовується інструкція управління циклом pass\")"
   ]
  },
  {
   "cell_type": "code",
   "execution_count": null,
   "metadata": {},
   "outputs": [],
   "source": [
    "# інструкція управління циклом conitinue - ігнорує умову if і продовжує виконувати зовінішній цикл.\n",
    "x=1\n",
    "while x < 10:\n",
    "    print(x)\n",
    "    x+=1\n",
    "    if x>5:\n",
    "        continue\n",
    "        print(\"використовується інструкція управління циклом сontinue\")"
   ]
  },
  {
   "cell_type": "markdown",
   "metadata": {},
   "source": [
    "Цикл while \n",
    "===\n",
    "Цикл while є дуже зручним у випадку необхідності працювати програмі до її примусового завершення. Таким чином, організується безкінечний цикл, який очікує дій користувача \n",
    "Тобто цикл while перевіряє початкові умови: якщо умови виконуються, цикл починає працювати. Кожного разу при виконанні однієї ітерації циклу,  умова перевіряється знову. Доти, доки умова виконується, цикл продовжує працювати. Як тільки умова перестає виконуватися, цикл закінчує свою роботу. "
   ]
  },
  {
   "cell_type": "code",
   "execution_count": null,
   "metadata": {},
   "outputs": [],
   "source": [
    "# початкова умова гри \n",
    "active_game = True\n",
    "\n",
    "lives = 3\n",
    "# цикл while \n",
    "while active_game:\n",
    "    # старт гри.\n",
    "    # у визначений момент часу необхідно змінити значення active_пфьу на притилежне значення False.\n",
    "    # які зміни повинні бути тут, щоб не було *\n",
    "    # Як тільки це відбудеться, цикл завершується.\n",
    "    if lives == 0:\n",
    "        print(\"Гра закінчена!\")\n",
    "        break\n",
    "    \n",
    "# дії після завершення циклу "
   ]
  },
  {
   "cell_type": "markdown",
   "metadata": {},
   "source": [
    "Процедура виконання циклу:\n",
    "- Кажен цикл повинен мати початкову умову, яка виконується (істина) \n",
    "- Ключове слово `while` включае в себе умову, яка перевіряється \n",
    "- Код всередині циклу виконується доти, доки виконується початкова умова\n",
    "- Як тільки початкова умова не виконується, виконання циклу завершується \n",
    "- Після завершення циклу, виконується код, розташований після циклу "
   ]
  },
  {
   "cell_type": "code",
   "execution_count": null,
   "metadata": {},
   "outputs": [],
   "source": [
    "# Встановимо силу гравця на рівні - 5.\n",
    "power = 5\n",
    "\n",
    "# Гра продовжується доти, доки сил у гравця більше 0.\n",
    "while power > 0:\n",
    "    print(\"Гра досі продовжується, тому що сили гравця дорівнюють %d.\" % power)\n",
    "    # гра розпочинається тут: \n",
    "    #   у процесі гри можлива втрата сил \n",
    "    # припустимо, що з кожним проходом циклу сила гравця зменшується на 1\n",
    "    power = power - 1\n",
    "else:    \n",
    "    print(\"\\nНі, твоя сила зменшена до 0! Гра завершена.\")"
   ]
  },
  {
   "cell_type": "code",
   "execution_count": null,
   "metadata": {},
   "outputs": [],
   "source": [
    "# Список складається з декількох імен\n",
    "names = ['Тарас', 'Павло', 'Кирил']\n",
    "\n",
    "# Користувач вводить нові імена\n",
    "new_name = input(\"Введить ім'я студента з паралельного курсу: \")\n",
    "\n",
    "# Додаємо нове ім'я до списку\n",
    "names.append(new_name)\n",
    "\n",
    "# Надрукуємо список, щоб засвідчити що ім'я було додане\n",
    "print(names)"
   ]
  },
  {
   "cell_type": "code",
   "execution_count": null,
   "metadata": {},
   "outputs": [],
   "source": [
    "# Створимо пустий список \n",
    "names = []\n",
    "\n",
    "# Визначимо змінну new_name, значення якой відрізняється від 'quit'.\n",
    "new_name = ''\n",
    "\n",
    "# Розпочинаємо цикл, який буде виконуватися доти, доки не буде введено значення 'quit'.\n",
    "while new_name != 'quit':\n",
    "    # Користувач вводить нове ім'я\n",
    "    new_name = input(\"Введить ім'я студента з паралельного курсу: \")\n",
    "\n",
    "    # Додаємо нове ім'я до списку, який був створений раніше\n",
    "    names.append(new_name)\n",
    "\n",
    "# Роздрукуємо всі імена, додані до списку \n",
    "print(names)"
   ]
  },
  {
   "cell_type": "code",
   "execution_count": null,
   "metadata": {},
   "outputs": [],
   "source": [
    "# Створимо пустий список \n",
    "names = []\n",
    "\n",
    "# Визначимо змінну new_name, значення якой відрізняється від 'quit'.\n",
    "new_name = ''\n",
    "\n",
    "# Розпочинаємо цикл, який буде виконуватися доти, доки не буде введено значення 'quit'.\n",
    "while new_name != 'quit':\n",
    "    # Користувач вводить нове ім'я\n",
    "    new_name = input(\"Введить ім'я студента з паралельного курсу: \")\n",
    "\n",
    "    # Додаємо нове ім'я до списку, який був створений раніше\n",
    "    names.append(new_name)\n",
    "del names[-1]\n",
    "\n",
    "# Роздрукуємо всі імена, додані до списку \n",
    "print(names)"
   ]
  },
  {
   "cell_type": "markdown",
   "metadata": {},
   "source": [
    "     Використання циклу while для створення вибору із меню  "
   ]
  },
  {
   "cell_type": "code",
   "execution_count": null,
   "metadata": {},
   "outputs": [],
   "source": [
    "# Контекст користувача, у відпоідності до якого необхідно зробити вибір.\n",
    "print(\"\\nВітаємо в сервісному центрі надання послуг. Що вам подобається?\")\n",
    "\n",
    "# Встановлення початкових значень щодо можливості вибору або 'quit', для виходу.\n",
    "choice = ''\n",
    "\n",
    "# встановлення циклу доти, доки користувач не введе 'quit' - для завершення циклу.\n",
    "while choice != 'q':\n",
    "    # вивід всіх можливих варіантів вибору за допомогою інструкції print .\n",
    "    print(\"\\n[1] Введить 1, якщо для вас цікаве кино.\")\n",
    "    print(\"[2] Введить 2, якщо для вас цікава фізкультура.\")\n",
    "    print(\"[3] Введить 3, якщо для вас цікаво прочитати книгу.\")\n",
    "    print(\"[q] Введить q для виходу = quit.\")\n",
    "    \n",
    "    # Запитання відповіді користувача.\n",
    "    choice = input(\"\\nЩо вам подобається?\")\n",
    "    \n",
    "    # Відповіді на вибір користувача.\n",
    "    if choice == '1':\n",
    "        print(\"\\nСьогодні у нас іде цікаве кино. Насолоджуйтесь!\\n\")\n",
    "    elif choice == '2':\n",
    "        print(\"\\nУ нас є спортивна зала. Вхід через 50 м.!\\n\")\n",
    "    elif choice == '3':\n",
    "        print(\"\\nУ нас є дивовижна бібліотека. Книжки на всі смаки!\\n\")\n",
    "    elif choice == 'q':\n",
    "        print(\"\\nДякуємо, що завітали до нас! Приходьте ще, чечаємо на вас!\\n\")\n",
    "    else:\n",
    "        print(\"\\nЯ не розумію вас, спробуйте ще раз.\\n\")\n",
    "        \n",
    "# Завершення опитування користувача \n",
    "print(\"Дякуємо, приходьте до нас. У нас постійне поповнення сервісних послуг!\")"
   ]
  },
  {
   "cell_type": "markdown",
   "metadata": {},
   "source": [
    "другій варіант\n",
    "=="
   ]
  },
  {
   "cell_type": "code",
   "execution_count": null,
   "metadata": {},
   "outputs": [],
   "source": [
    "# Визначення відповіді на кожен варіант вибору користувача.\n",
    "def see_film():\n",
    "    print(\"\\nСьогодні у нас іде цікаве кино. Насолоджуйтесь!\\n\") \n",
    "    \n",
    "def go_running():\n",
    "    print(\"\\nУ нас є спортивна зала. Вхід через 50 м.!\\n\")\n",
    "    \n",
    "def fine_books():\n",
    "    print(\"\\nУ нас є дивовижна бібліотека. Книжки на всі смаки!\\n\")\n",
    "\n",
    "# Контекст користувача, у відпоідності до якого необхідно зробити вибір.\n",
    "print(\"\\nВітаємо в сервісному центрі надання послуг. Що вам подобається?\")\n",
    "\n",
    "# Встановлення початкових значень щодо можливості вибору або 'quit', для виходу.\n",
    "choice = ''\n",
    "\n",
    "# встановлення циклу доти, доки користувач не введе 'quit' - для завершення циклу.\n",
    "while choice != 'q':\n",
    "    # вивід всіх можливих варіантів вибору за допомогою інструкції print .\n",
    "    print(\"\\n[1] Введить 1, якщо для вас цікаве кино.\")\n",
    "    print(\"[2] Введить 2, якщо для вас цікава фізкультура.\")\n",
    "    print(\"[3] Введить 3, якщо для вас цікаво прочитати книгу.\")\n",
    "    print(\"[q] Введить q для виходу = quit.\")\n",
    "    \n",
    "    # Запитування вибору користувача.\n",
    "    choice = input(\"\\nWhat would you like to do? \")\n",
    "    \n",
    "    # Відповідь на вибір користувача.\n",
    "    if choice == '1':\n",
    "        see_film()\n",
    "    elif choice == '2':\n",
    "        go_running()\n",
    "    elif choice == '3':\n",
    "        fine_books()\n",
    "    elif choice == 'q':\n",
    "        print(\"\\nДякуємо, що завітали до нас!. Приходьте ще.\\n\")\n",
    "    else:\n",
    "        print(\"\\nЯ не розумію вас, спробуйте ще раз.\\n\")\n",
    "        \n",
    "# Завершення опитування користувача.\n",
    "print(\"Ще раз дякуємо! До побачення.\")"
   ]
  },
  {
   "cell_type": "markdown",
   "metadata": {},
   "source": [
    "Використання while для обробки елементів списку \n",
    "===\n",
    "Можна дістати елемент списку за допомогою методу `pop()`. За допомогою організації циклу можна пройти по всім елементам списку і застосувати до них методи. Приклад з непідтвердженими користувачами. "
   ]
  },
  {
   "cell_type": "code",
   "execution_count": null,
   "metadata": {},
   "outputs": [],
   "source": [
    "# Створимо два списка\n",
    "unconfirmed_users = ['Тарас', 'Кирил', 'Петро', 'Іван ']\n",
    "confirmed_users = []\n",
    "\n",
    "# Пройдемо по списку і перевіримо кожного користувача \n",
    "while len(unconfirmed_users) > 0:\n",
    "    \n",
    "    # дістанемо останнього користувача\n",
    "    current_user = unconfirmed_users.pop()\n",
    "    print(\"Підтверджений користувач %s...узгоджено!\" % current_user.title())\n",
    "    \n",
    "    # доаємо його до листа підвердження \n",
    "    confirmed_users.append(current_user)\n",
    "    \n",
    "# Оробка непідтверджених і підтверджених \n",
    "print(\"\\nНе підтверджений користувач:\")\n",
    "for user in unconfirmed_users:\n",
    "    print('- ' + user.title())\n",
    "    \n",
    "print(\"\\nПідтверджений користувач:\")\n",
    "for user in confirmed_users:\n",
    "    print('- ' + user.title())"
   ]
  },
  {
   "cell_type": "markdown",
   "metadata": {},
   "source": [
    "Зараз проходить обробка нових користувачів. Якщо користувачі з'являються швидше, ніж вони обробляються, можна їх пропустити, тому обробляємо за алгоритмом \"перший прийшов, перший обслуговується\" (FIFO), тому кожного разу обираємо першого. "
   ]
  },
  {
   "cell_type": "code",
   "execution_count": null,
   "metadata": {},
   "outputs": [],
   "source": [
    "# Створимо два списка\n",
    "unconfirmed_users = ['Тарас', 'Кирил', 'Петро', 'Іван ']\n",
    "confirmed_users = []\n",
    "\n",
    "# Пройдемо по списку і перевіримо кожного користувача \n",
    "while len(unconfirmed_users) > 0:\n",
    "    \n",
    "    # дістанемо останнього користувача\n",
    "    current_user = unconfirmed_users.pop(0)\n",
    "    print(\"Підтверджений користувач %s...узгоджено!\" % current_user.title())\n",
    "    \n",
    "    # доаємо його до листа підвердження \n",
    "    confirmed_users.append(current_user)\n",
    "    \n",
    "# Оробка непідтверджених і підтверджених \n",
    "print(\"\\nНе підтверджений користувач:\")\n",
    "for user in unconfirmed_users:\n",
    "    print('- ' + user.title())\n",
    "    \n",
    "print(\"\\nПідтверджений користувач:\")\n",
    "for user in confirmed_users:\n",
    "    print('- ' + user.title())"
   ]
  },
  {
   "cell_type": "markdown",
   "metadata": {},
   "source": [
    "Випадкові безкінечні цикли \n",
    "===\n",
    "Іноді необхідно виконати цикл, але невідомо скільки ітерацій для його виконання потрібно. Так з'являються, безкінечні цикли. \n",
    "Приклад: "
   ]
  },
  {
   "cell_type": "code",
   "execution_count": 33,
   "metadata": {},
   "outputs": [],
   "source": [
    "current_number = 1\n",
    "\n",
    "# При значенні змінної current_number менше 5, відбувається її друк.\n",
    "while current_number <= 5:\n",
    "    print(current_number)"
   ]
  },
  {
   "cell_type": "markdown",
   "metadata": {},
   "source": [
    "Вищенаведений цикл ніколи не завершується, тому що умова циклу завжди виконується. Для коректної роботи циклу необхідно в тіло циклу додавати операцію зміни змінної циклу, яка представлена в умовах циклу. Саме вона, за умови її зміни в тілі циклу повинна перевірятися, щоб коректно організувати роботу циклу."
   ]
  },
  {
   "cell_type": "code",
   "execution_count": null,
   "metadata": {},
   "outputs": [],
   "source": [
    "current_number = 1\n",
    "\n",
    "# При значенні змінної current_number менше 5, відбувається її друк.\n",
    "while current_number <= 5:\n",
    "    print(current_number)\n",
    "    current_number = current_number + 1"
   ]
  },
  {
   "cell_type": "code",
   "execution_count": 36,
   "metadata": {},
   "outputs": [],
   "source": [
    "current_number = 1\n",
    "\n",
    "# При значенні змінної current_number менше 5, відбувається її друк. Знову безкінечний цикл. Чому?\n",
    "while current_number <= 5:\n",
    "    print(current_number)\n",
    "    current_number = current_number - 1"
   ]
  },
  {
   "cell_type": "markdown",
   "metadata": {},
   "source": [
    "## Ключові інструкції по роботі з циклами \n",
    "---\n",
    "- **break** - переривання процеу виконання циклу \n",
    "\n",
    "- **continue** - перехід на початок циклу \n",
    "\n",
    "- **pass** - не виконує жодних операцій. Використовується у якості пустого оператора \n",
    "\n",
    "Блок **else** - виконується, якщо цикл завершується звичайним порядком (break не враховується)\n",
    "\n",
    "Приклад - структура (шаблон) інструкції цикл:"
   ]
  },
  {
   "cell_type": "markdown",
   "metadata": {},
   "source": [
    "while <condition1>:\n",
    "\n",
    "    <statements1>\n",
    "    \n",
    "    if <condition2>: break # вийти із циклу, пропустив другу його частину else\n",
    "    \n",
    "    if <condition3>: continue # перейти до початку циклу, до виразу condition1\n",
    "    \n",
    "else:\n",
    "\n",
    "    <statements2> # виконується, якщо не  була використана інструкція ‘break’"
   ]
  },
  {
   "cell_type": "markdown",
   "metadata": {},
   "source": [
    "Інструкції **break** і **continue** можуть з'являтися будь-де всередині циклу **while** (або **for**), але, Як правило вони використовуються в умовних виразах **if**, щоб виконати необхідні дії у відповідь на деяку умову."
   ]
  },
  {
   "cell_type": "code",
   "execution_count": null,
   "metadata": {},
   "outputs": [],
   "source": [
    "# використання сontinue\n",
    "x = 10\n",
    "while x:\n",
    "    x = x - 1 # Або, x -= 1\n",
    "    if x % 2 != 0: continue # Непарне? – пропустити вивід числа\n",
    "    print(x)"
   ]
  },
  {
   "cell_type": "code",
   "execution_count": null,
   "metadata": {},
   "outputs": [],
   "source": [
    "# використання break\n",
    "while 1:\n",
    "    name = input('Введить імя:')\n",
    "    if name == 'стоп': break\n",
    "    age = input('Введить вік: ')\n",
    "    print('Привіт', name, '=>', int(age) ** 2)"
   ]
  },
  {
   "cell_type": "code",
   "execution_count": null,
   "metadata": {},
   "outputs": [],
   "source": [
    "# використання else. Визначення простого числа\n",
    "x, y = 4, 47\n",
    "x = y // 2 # Для значень y > 1\n",
    "while x > 1:\n",
    "    if y % x == 0: # y ділиться на x\n",
    "        print(y, 'ділиться на ', x)\n",
    "        break # Перестрібнути блок else\n",
    "    else: # y не ділиться на x\n",
    "        x -= 1\n",
    "else: # Нормальне завершення циклу\n",
    "    print(y, 'просте число')"
   ]
  }
 ],
 "metadata": {
  "kernelspec": {
   "display_name": "Python 3",
   "language": "python",
   "name": "python3"
  },
  "language_info": {
   "codemirror_mode": {
    "name": "ipython",
    "version": 3
   },
   "file_extension": ".py",
   "mimetype": "text/x-python",
   "name": "python",
   "nbconvert_exporter": "python",
   "pygments_lexer": "ipython3",
   "version": "3.7.6"
  },
  "name": "seminar2_part1_variables_strings_numbers.ipynb"
 },
 "nbformat": 4,
 "nbformat_minor": 1
}
