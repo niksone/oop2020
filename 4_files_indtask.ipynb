{
 "cells": [
  {
   "cell_type": "markdown",
   "metadata": {},
   "source": [
    "## Індивідуальне завдання №1 \n",
    "Роздрукувати введений рядок по літерам "
   ]
  },
  {
   "cell_type": "code",
   "execution_count": 3,
   "metadata": {},
   "outputs": [],
   "source": [
    "# код Індивідуального завдання №1 тут"
   ]
  },
  {
   "cell_type": "markdown",
   "metadata": {},
   "source": [
    "## Індивідуальне завдання №2\n",
    "\n",
    "Роздрукувати шаблон визначеного формату, за умови що введене число не більше 20\n",
    "\n",
    "\n",
    "    if noOfRows = 5 : якщо введене число дорівнює 5, тоді роздрукувати шаблон у вигляді: \n",
    "    \n",
    "    *\n",
    "    * *\n",
    "    * * *\n",
    "    * * * *\n",
    "    * * * * *\n"
   ]
  },
  {
   "cell_type": "code",
   "execution_count": 24,
   "metadata": {},
   "outputs": [],
   "source": [
    "# код Індивідуального завдання №2 тут"
   ]
  },
  {
   "cell_type": "markdown",
   "metadata": {},
   "source": [
    "## Індивідуальне завдання №3\n",
    "Для введеного числа: \n",
    "1. Роздрукувати парні числа, які менше введеного числа\n",
    "2. Роздрукувати непарні числа, які менше введеного числа"
   ]
  },
  {
   "cell_type": "code",
   "execution_count": null,
   "metadata": {},
   "outputs": [],
   "source": [
    "# код Індивідуального завдання №3 тут"
   ]
  },
  {
   "cell_type": "markdown",
   "metadata": {},
   "source": [
    "## Індивідуальне завдання №4\n",
    "Роздрукувати всі прості числа, які менше введеного числа  "
   ]
  },
  {
   "cell_type": "code",
   "execution_count": 16,
   "metadata": {},
   "outputs": [],
   "source": [
    "# код Індивідуального завдання №4 тут"
   ]
  },
  {
   "cell_type": "markdown",
   "metadata": {},
   "source": [
    "## Індивідуальне завдання №5\n",
    "Роздрукувати введений рядок `n` разів"
   ]
  },
  {
   "cell_type": "code",
   "execution_count": 17,
   "metadata": {},
   "outputs": [],
   "source": [
    "# код Індивідуального завдання №5 тут"
   ]
  },
  {
   "cell_type": "markdown",
   "metadata": {},
   "source": [
    "## Індивідуальне завдання №6\n",
    "Роздрукувати суму перших `n` чисел. `n` - вводиться з клавіатури"
   ]
  },
  {
   "cell_type": "code",
   "execution_count": 18,
   "metadata": {},
   "outputs": [],
   "source": [
    "# код Індивідуального завдання №6 тут"
   ]
  },
  {
   "cell_type": "markdown",
   "metadata": {},
   "source": [
    "## Індивідуальне завдання №7\n",
    "Перевірити введений пароль доступу: \n",
    "1. У випадку, коли пароль доступу введений правильно - доступ дозволений\n",
    "2. У випадку, коли пароль доступу введений невірно, перейти на повторний ввод паролю"
   ]
  },
  {
   "cell_type": "code",
   "execution_count": 21,
   "metadata": {},
   "outputs": [],
   "source": [
    "# код Індивідуального завдання №7 тут"
   ]
  },
  {
   "cell_type": "markdown",
   "metadata": {},
   "source": [
    "## Індивідуальне завдання №8\n",
    "Написати програму, яка видає оцінку студенту за його рейтинговими балами\n",
    "\n",
    "рейтинговий бал <0 або рейтинговий бал >100: невірно введений рейтинговий бал \n",
    "\n",
    "90< рейтинговий бал <=100: відмінно\n",
    "\n",
    "75< рейтинговий бал <=89: добре \n",
    "\n",
    "60< рейтинговий бал <=74: задовільно\n",
    "\n",
    "1< рейтинговий бал <=59: не задовільно "
   ]
  },
  {
   "cell_type": "code",
   "execution_count": 23,
   "metadata": {},
   "outputs": [],
   "source": [
    "# код Індивідуального завдання №8 тут"
   ]
  },
  {
   "cell_type": "markdown",
   "metadata": {},
   "source": [
    "## Індивідуальне завдання №9\n",
    "Виправити помилку в коді:\n",
    "\n",
    "things = str([1, 2, 3, 4, 5])\n",
    "\n",
    "for thing in things:\n",
    "\n",
    "    print(thing)"
   ]
  },
  {
   "cell_type": "code",
   "execution_count": null,
   "metadata": {},
   "outputs": [],
   "source": [
    "# код Індивідуального завдання №9 тут (неправильний код надається)\n",
    "things = str([1, 2, 3, 4, 5])\n",
    "for thing in things:\n",
    "    print(thing)"
   ]
  },
  {
   "cell_type": "markdown",
   "metadata": {},
   "source": [
    "## Індивідуальне завдання №10\n",
    "У відповідності до введеного числа не більше 15, використовуючи вкладені цикли роздрукувати шаблон визначеного формату. Для числа 8 шаблон має наступний вигляд:\n",
    "\n",
    "## * * * * * * * *\n",
    "## * * * * * * * *\n",
    "## * * * * * * * *\n",
    "## * * * * * * * * \n",
    "## * * * * * * * *\n",
    "## * * * * * * * * \n",
    "## * * * * * * * *\n",
    "## * * * * * * * *"
   ]
  },
  {
   "cell_type": "code",
   "execution_count": 33,
   "metadata": {},
   "outputs": [],
   "source": [
    "# код Індивідуального завдання №10 тут"
   ]
  }
 ],
 "metadata": {
  "kernelspec": {
   "display_name": "Python 3",
   "language": "python",
   "name": "python3"
  },
  "language_info": {
   "codemirror_mode": {
    "name": "ipython",
    "version": 3
   },
   "file_extension": ".py",
   "mimetype": "text/x-python",
   "name": "python",
   "nbconvert_exporter": "python",
   "pygments_lexer": "ipython3",
   "version": "3.7.6"
  },
  "name": "seminar2_part1_variables_strings_numbers.ipynb"
 },
 "nbformat": 4,
 "nbformat_minor": 1
}
