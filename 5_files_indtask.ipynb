{
 "cells": [
  {
   "cell_type": "markdown",
   "metadata": {},
   "source": [
    "## Індивідуальне завдання №1 \n",
    "\n",
    "Написати функцію **three_numbers**, яка повертає найменше парне число із трьох чисел, серед яких, по меншій мірі, два є парними. Інакше, повертає максимальне непарне число, якщо, по меншій мірі, два є непарними.  \n",
    "\n",
    "Тести: \n",
    "\n",
    "three_numbers(6,8,9) --> 6\n",
    "\n",
    "   three_numbers(3,5,8) --> 5"
   ]
  },
  {
   "cell_type": "code",
   "execution_count": 3,
   "metadata": {},
   "outputs": [],
   "source": [
    "# код Індивідуального завдання №1 тут\n",
    "def three_numbers(a,b,c):\n",
    "    pass"
   ]
  },
  {
   "cell_type": "code",
   "execution_count": null,
   "metadata": {},
   "outputs": [],
   "source": [
    "three_numbers(6,8,9)"
   ]
  },
  {
   "cell_type": "code",
   "execution_count": null,
   "metadata": {},
   "outputs": [],
   "source": [
    "three_numbers(3,5,8)"
   ]
  },
  {
   "cell_type": "markdown",
   "metadata": {},
   "source": [
    "## Індивідуальне завдання №2\n",
    "\n",
    "Написати функцію **check_words**, яка, аналізуючи рядок із двох слів, повертає **True**, якщо слова розпочинаються з однакової літери. І **False**, якщо з різних літер. \n",
    "\n",
    "Тести:\n",
    "\n",
    "check_words('Привіт Першій') --> True\n",
    "\n",
    "check_words('Привіт Другій') --> False"
   ]
  },
  {
   "cell_type": "code",
   "execution_count": 24,
   "metadata": {},
   "outputs": [],
   "source": [
    "# код Індивідуального завдання №2 тут\n",
    "def check_words(text):\n",
    "    pass"
   ]
  },
  {
   "cell_type": "code",
   "execution_count": null,
   "metadata": {},
   "outputs": [],
   "source": [
    "# код Індивідуального завдання №2 тут\n",
    "check_words('Привіт Першій') "
   ]
  },
  {
   "cell_type": "code",
   "execution_count": null,
   "metadata": {},
   "outputs": [],
   "source": [
    "# код Індивідуального завдання №2 тут\n",
    "check_words('Привіт Другій')"
   ]
  },
  {
   "cell_type": "markdown",
   "metadata": {},
   "source": [
    "## Індивідуальне завдання №3\n",
    "\n",
    "Написати функцію **check_three**, яка із трьох заданих цілих чисел повертає **True**, якщо їх сума дорівнює 51, або, якщо одне із них дорівнює 51. В інакшому випадку функція **check_three** повертає **False**.\n",
    "\n",
    "Тести:\n",
    "\n",
    "check_three(15,15,21) --> True\n",
    "\n",
    "check_three(12,51,10) --> True\n",
    "\n",
    "check_three(17,17,18) --> False"
   ]
  },
  {
   "cell_type": "code",
   "execution_count": 2,
   "metadata": {},
   "outputs": [],
   "source": [
    "# код Індивідуального завдання №3 тут\n",
    "def check_three(num1,num2,num3):\n",
    "    pass"
   ]
  },
  {
   "cell_type": "code",
   "execution_count": 3,
   "metadata": {},
   "outputs": [],
   "source": [
    "# код Індивідуального завдання №3 тут\n",
    "check_three(15,15,21)"
   ]
  },
  {
   "cell_type": "code",
   "execution_count": null,
   "metadata": {},
   "outputs": [],
   "source": [
    "# код Індивідуального завдання №3 тут\n",
    "check_three(12,51,10)"
   ]
  },
  {
   "cell_type": "code",
   "execution_count": null,
   "metadata": {},
   "outputs": [],
   "source": [
    "# код Індивідуального завдання №3 тут\n",
    "check_three(17,17,18)"
   ]
  },
  {
   "cell_type": "markdown",
   "metadata": {},
   "source": [
    "## Індивідуальне завдання №4\n",
    "\n",
    "Написати функцію **reverse_sentence**, яка для заданого речення видає його реверсивне представлення \n",
    "\n",
    "Тести:\n",
    "\n",
    "reverse_sentence('Книги — морська глибина') --> 'Глибина морська — книги'\n",
    "\n",
    "reverse_sentence('Кожен — коваль своєї долі') --> 'Долі своєї коваль — кожен'"
   ]
  },
  {
   "cell_type": "code",
   "execution_count": 16,
   "metadata": {},
   "outputs": [],
   "source": [
    "# код Індивідуального завдання №4 тут\n",
    "def reverse_sentence(text):\n",
    "    pass"
   ]
  },
  {
   "cell_type": "code",
   "execution_count": null,
   "metadata": {},
   "outputs": [],
   "source": [
    "# код Індивідуального завдання №4 тут\n",
    "reverse_sentence('Книги — морська глибина')"
   ]
  },
  {
   "cell_type": "code",
   "execution_count": null,
   "metadata": {},
   "outputs": [],
   "source": [
    "# код Індивідуального завдання №4 тут\n",
    "reverse_sentence('Кожен — коваль своєї долі')"
   ]
  },
  {
   "cell_type": "markdown",
   "metadata": {},
   "source": [
    "## Індивідуальне завдання №5\n",
    "\n",
    "Написати функцію **neighbor_numbers**, яка для заданого списку цілих чисел від 0 до 9 повертає **True**, якщо у будь-якому місці цього списку підряд ідуть будь-які дві однакові цифри, що належать інтервалу від 0 до 9.   \n",
    "\n",
    "Тести:\n",
    "\n",
    "neighbor_numbers([9, 6, 4, 4, 5]) --> True\n",
    "\n",
    "neighbor_numbers([1, 2, 3, 4, 5, 6]) --> False\n",
    "\n",
    "neighbor_numbers([9, 6, 6, 3]) --> True\n",
    "\n",
    "neighbor_numbers([6, 8, 7, 4, 1, 6]) --> False"
   ]
  },
  {
   "cell_type": "code",
   "execution_count": 17,
   "metadata": {},
   "outputs": [],
   "source": [
    "# код Індивідуального завдання №5 тут\n",
    "def neighbor_numbers(nums):\n",
    "    pass"
   ]
  },
  {
   "cell_type": "code",
   "execution_count": null,
   "metadata": {},
   "outputs": [],
   "source": [
    "# код Індивідуального завдання №5 тут\n",
    "neighbor_numbers([9, 6, 4, 4, 5]) "
   ]
  },
  {
   "cell_type": "code",
   "execution_count": null,
   "metadata": {},
   "outputs": [],
   "source": [
    "# код Індивідуального завдання №5 тут\n",
    "neighbor_numbers([1, 2, 3, 4, 5, 6])"
   ]
  },
  {
   "cell_type": "code",
   "execution_count": null,
   "metadata": {},
   "outputs": [],
   "source": [
    "# код Індивідуального завдання №5 тут\n",
    "neighbor_numbers([9, 6, 6, 3]) "
   ]
  },
  {
   "cell_type": "code",
   "execution_count": null,
   "metadata": {},
   "outputs": [],
   "source": [
    "# код Індивідуального завдання №5 тут\n",
    "neighbor_numbers([6, 8, 7, 4, 1, 6]) "
   ]
  },
  {
   "cell_type": "markdown",
   "metadata": {},
   "source": [
    "## Індивідуальне завдання №6\n",
    "\n",
    "Написати функцію **check_palindrome** перевірки, чи є слово **паліндромом**. **Паліндромом** є слово, яке читається однаково зліва направо і справа наліво.\n",
    "\n",
    "Тести:\n",
    "\n",
    "check_palindrome('каяак') --> True \n",
    "\n",
    "check_palindrome('saippuakivikauppias') --> True\n",
    "\n",
    "check_palindrome('опера') --> False\n",
    "\n",
    "check_palindrome('лимузин изумил') --> True "
   ]
  },
  {
   "cell_type": "code",
   "execution_count": 18,
   "metadata": {},
   "outputs": [],
   "source": [
    "# код Індивідуального завдання №6 тут\n",
    "def check_palindrome(word):\n",
    "    pass"
   ]
  },
  {
   "cell_type": "code",
   "execution_count": null,
   "metadata": {},
   "outputs": [],
   "source": [
    "# код Індивідуального завдання №6 тут\n",
    "check_palindrome('каяак')"
   ]
  },
  {
   "cell_type": "code",
   "execution_count": null,
   "metadata": {},
   "outputs": [],
   "source": [
    "# код Індивідуального завдання №6 тут\n",
    "check_palindrome('опера')"
   ]
  },
  {
   "cell_type": "code",
   "execution_count": null,
   "metadata": {},
   "outputs": [],
   "source": [
    "# код Індивідуального завдання №6 тут\n",
    "check_palindrome('saippuakivikauppias')"
   ]
  },
  {
   "cell_type": "code",
   "execution_count": null,
   "metadata": {},
   "outputs": [],
   "source": [
    "# код Індивідуального завдання №6 тут\n",
    "check_palindrome('лимузин изумил')"
   ]
  },
  {
   "cell_type": "markdown",
   "metadata": {},
   "source": [
    "## Індивідуальне завдання №7\n",
    "\n",
    "Написати функцію **agent_007**, яка повертає **True**, якщо у послідовності цілих чисел списку, **послідновно**, зліва направо зустрічається наступна послідовність чисел - **007**  \n",
    "\n",
    "Тести:\n",
    "\n",
    "agent_007([8,9,0,0,0,7,1]) --> True\n",
    "\n",
    "agent_007([7,0,3,4,0,6,2,7]) --> True\n",
    "\n",
    "agent_007([1,7,2,7,0,3,5,0,4]) --> False"
   ]
  },
  {
   "cell_type": "code",
   "execution_count": 21,
   "metadata": {},
   "outputs": [],
   "source": [
    "# код Індивідуального завдання №7 тут\n",
    "def agent_007(nums):\n",
    "    pass"
   ]
  },
  {
   "cell_type": "code",
   "execution_count": null,
   "metadata": {},
   "outputs": [],
   "source": [
    "# код Індивідуального завдання №7 тут\n",
    "agent_007([8,9,0,0,0,7,1])"
   ]
  },
  {
   "cell_type": "code",
   "execution_count": null,
   "metadata": {},
   "outputs": [],
   "source": [
    "# код Індивідуального завдання №7 тут\n",
    "agent_007([7,0,3,4,0,6,2,7])"
   ]
  },
  {
   "cell_type": "code",
   "execution_count": null,
   "metadata": {},
   "outputs": [],
   "source": [
    "# код Індивідуального завдання №7 тут\n",
    "agent_007([1,7,2,7,0,3,5,0,4])"
   ]
  },
  {
   "cell_type": "markdown",
   "metadata": {},
   "source": [
    "## Індивідуальне завдання №8\n",
    "Написати функцію **unique_number**, яка видає в зростаючому порядку список унікальних (без повторення) цілих чисел із заданого списку цілих чисел. \n",
    "\n",
    "Тест:\n",
    "\n",
    "Заданий список цілих чисел: [7, 4, 5, 7, 4, 1, 6, 8, 1, 4, 5, 1, 7]\n",
    "\n",
    "Результат - список унікальних чисел   : [1, 4, 5, 7]"
   ]
  },
  {
   "cell_type": "code",
   "execution_count": 23,
   "metadata": {},
   "outputs": [],
   "source": [
    "# код Індивідуального завдання №8 тут\n",
    "def unique_number(lst):\n",
    "    pass"
   ]
  },
  {
   "cell_type": "code",
   "execution_count": null,
   "metadata": {},
   "outputs": [],
   "source": [
    "# код Індивідуального завдання №8 тут\n",
    "unique_number([7, 4, 5, 7, 4, 6, 8, 4, 5, 7])"
   ]
  },
  {
   "cell_type": "markdown",
   "metadata": {},
   "source": [
    "## Індивідуальне завдання №9\n",
    "Написати функції **word_upper** і **word_low**, які видають кількість **великих** і **малих** літер із введеного з консолі речення.\n",
    "\n",
    "Тест.\n",
    "\n",
    "Приклад введеної з консолі фрази : \"Функція Виконується Лише Тоді, Коли Вона Викликається в Програмі\"\n",
    "\n",
    "Результат:\n",
    "- Великих літер: 8 \n",
    "- Малих літер : 47"
   ]
  },
  {
   "cell_type": "code",
   "execution_count": null,
   "metadata": {},
   "outputs": [],
   "source": [
    "# код Індивідуального завдання №9 тут \n",
    "def word_upper(s):\n",
    "    pass"
   ]
  },
  {
   "cell_type": "code",
   "execution_count": null,
   "metadata": {},
   "outputs": [],
   "source": [
    "# код Індивідуального завдання №9 тут\n",
    "def word_low(s):\n",
    "    pass"
   ]
  },
  {
   "cell_type": "markdown",
   "metadata": {},
   "source": [
    "## Індивідуальне завдання №10\n",
    "\n",
    "Написати функцію **number_multiplication**, яка перемножує всі елементи заданого списку цілих чисел \n",
    "\n",
    "Тести: \n",
    "\n",
    "Заданий список цілих чисел: [4, 3, 2, -1]\n",
    "- Результат : -24 \n",
    "\n",
    "Заданий список цілих чисел: [8, 6, 9, 0]\n",
    "- Результат : 0 "
   ]
  },
  {
   "cell_type": "code",
   "execution_count": 33,
   "metadata": {},
   "outputs": [],
   "source": [
    "# код Індивідуального завдання №10 тут\n",
    "def number_multiplication(numbers):  \n",
    "    pass"
   ]
  },
  {
   "cell_type": "code",
   "execution_count": null,
   "metadata": {},
   "outputs": [],
   "source": [
    "# код Індивідуального завдання №10 тут\n",
    "number_multiplication([4, 3, 2, -1])"
   ]
  },
  {
   "cell_type": "code",
   "execution_count": null,
   "metadata": {},
   "outputs": [],
   "source": [
    "# код Індивідуального завдання №10 тут\n",
    "number_multiplication([8, 6, 9, 0])"
   ]
  }
 ],
 "metadata": {
  "kernelspec": {
   "display_name": "Python 3",
   "language": "python",
   "name": "python3"
  },
  "language_info": {
   "codemirror_mode": {
    "name": "ipython",
    "version": 3
   },
   "file_extension": ".py",
   "mimetype": "text/x-python",
   "name": "python",
   "nbconvert_exporter": "python",
   "pygments_lexer": "ipython3",
   "version": "3.7.6"
  },
  "name": "seminar2_part1_variables_strings_numbers.ipynb"
 },
 "nbformat": 4,
 "nbformat_minor": 1
}
