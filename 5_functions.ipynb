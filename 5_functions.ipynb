{
 "cells": [
  {
   "cell_type": "markdown",
   "metadata": {},
   "source": [
    "# Функції"
   ]
  },
  {
   "cell_type": "markdown",
   "metadata": {},
   "source": [
    "**Функція** - це засіб, який дозволяє групувати набори інструкцій так, що у програмі вони можуть виконуватися неодноразово. \n",
    "\n",
    "> Функції забезпечують **багаторазове використання програмного коду** і зменшують його **надмірність**"
   ]
  },
  {
   "cell_type": "markdown",
   "metadata": {},
   "source": [
    "**Інструкції і вирази, які мають відношення до функцій**\n",
    "\n",
    "| **Інструкція** | **Приклади** |\n",
    "| --- | --- |\n",
    "| Виклик | `myfunc('spam', 'eggs', meat='ham')` |\n",
    "| `def, return` | `def adder(a, b=1, *c): return a+b+c[0]` |\n",
    "| `global` | `def changer(): global x; x = 'new'` |\n",
    "| `nonlocal` | `def changer(): nonlocal x; x = 'new'` |\n",
    "| `yield` | `def squares(): for i in range(x): yield i ** 2` |\n",
    "| `lambda` | `funcs = [lambda x: x**2, lambda x: x**3]` |"
   ]
  },
  {
   "cell_type": "markdown",
   "metadata": {},
   "source": [
    "## Для чого потріні функції \n",
    "У процесі розробки ПЗ функції грають **дві основні ролі**:\n",
    "\n",
    "* **Максимізувати багаторазове використання програмного коду і мінімізувати його надмірність**. Функції - основний інструмент *структуризації*\n",
    "\n",
    "\n",
    "* **Процедурна декомпозиція**. Функції забезпечують можливість декомпозиції складної системи на складові частини, кожна з яких грає визначену роль. Функції описують \"як робити\", але не \"навіщо робити\"."
   ]
  },
  {
   "cell_type": "markdown",
   "metadata": {},
   "source": [
    "## Створення функцій\n",
    "\n",
    "Основні концепції, які формують основу створення функцій:\n",
    "\n",
    "* **`def` - це програмний код, що виконується**. Функція створюється за допомогою цієї інструкції. `def` є інструкцією, яка виконується - функція не існує доти, доки інтерпретатор не дійде до інструкції `def` і не виконає її. У випадку найбільш типового використання інструкції `def` вставляються до файлів модулів і генерують функції при виконанні під час першої операції імпорту модуля.\n",
    "\n",
    "\n",
    "* **`def` створює об'єкт і присвоює йому ім'я**. Коли інтерпретатор Python зустрічає і виконує інструкцію `def`, він створює новий об'єкт-функцію і зв'язує його з іменем функції\n",
    "\n",
    "\n",
    "* **Вираз `lambda` створює об'єкт і повертає його у вигляді результату**\n",
    "\n",
    "\n",
    "* **`return` передає об'єкт результату програмі, яка його викликала**. Коли функція викликається, програма, яка її викликає, призупиняє свою роботу доти, доки функція не завершить свою роботу і не поверне управління.\n",
    "\n",
    "\n",
    "* **`yield` передає об'єкт результату, програмі, яка його викликала і запам'ятовує де выдбулось це повернення**\n",
    "\n",
    "\n",
    "* **Аргументи передаються завдяки присвоювання (у вигляді посилань на об'єкти)**\n",
    "\n",
    "\n",
    "* **`global` об'являє змінні, глобальні для модуля, без присвоювання їм значень**. По замовчуванню всі імена, присвоювання яким відбувається всередині функцій, є локальними для цих функцій і існують лише під час виконання функцій. Щоб присвоювати значення імені в глобальному модулі, функція повинна об'явити його використовуючи інструкцию `global`.\n",
    "\n",
    "\n",
    "* **`nonlocal` об'являє змінні, що знаходяться в області видимості охоплюючої функції, без присвоювання їм значень**. Це дозволяє використовувати охоплюючі функції у якості місця зберігання інформації про її *стан* - інформація відновлюється в момент виклику функції, при цьому не виникає необхідності використовувати глобальні змінні.\n",
    "\n",
    "\n",
    "* **Аргументи отримують свої значення (посилання на об'єкти) в результаті виконання операцї присвоювання**. У мові Python передача об'єктів до функцій відбувається завдяки посиланням, але це не свідчить про те, що створюються псевдоними імен. Зміни імені аргументу всередині функції  не тягне за собою зміни відповідного імені в програмі, яка її викликає. Але, зміни в об'єктах, які змінюються в переданій функції, відобразяться на об'єктах, переданих програмою, яка її викликає. \n",
    "\n",
    "\n",
    "* **Аргументи, значення, які повертаються і змінні не об'являються**. Жодні елементи функцій не потребують попереднього об'явлення: дозволяється передавати функції аргументи будь-яких типів, повертати із функції об'єкти будь-яких типів."
   ]
  },
  {
   "cell_type": "markdown",
   "metadata": {},
   "source": [
    "### Инструкция `def`"
   ]
  },
  {
   "cell_type": "markdown",
   "metadata": {},
   "source": [
    "У загальном вигляді обявлення **функції** має наступний формат:\n",
    "\n",
    "```\n",
    "def <name>(arg1, arg2, ..., argN):\n",
    "    <statements>\n",
    "```\n",
    "\n",
    "Тіло **функції** часто завершується інструкцією `return`:\n",
    "\n",
    "```\n",
    "def <name>(arg1, arg2, ..., argN):\n",
    "    ...\n",
    "    return <value>\n",
    "```\n",
    "\n",
    "Функція без `return` автоматично повертає об'єкт `None`"
   ]
  },
  {
   "cell_type": "markdown",
   "metadata": {},
   "source": [
    "### Інструкція `def` виконується під час виконання "
   ]
  },
  {
   "cell_type": "markdown",
   "metadata": {},
   "source": [
    "Інструкція `def` у мові Python  – це дійсна інструкція, яка виконується: коли вона виконується, вона створює новий  об'єкт функції і присвоює цей об'єкт імені.\n",
    "\n",
    "Допускається включати визначення функції всередину інструкції `if`, що дозволяє робити визначення альтернатив, які обираються:\n",
    "\n",
    "if test:\n",
    "\n",
    "    def func():  # Визначає функцію у такий спосіб \n",
    "   \n",
    "else:\n",
    "\n",
    "    def func():  # Або, визначає функцій в інший спосіб\n",
    "\n",
    "    func()       # Виклик обраної версії функції "
   ]
  },
  {
   "cell_type": "markdown",
   "metadata": {},
   "source": [
    "У зв'язку з тим, що визначення функції відбувається під час виконання, в  іменах\n",
    "функцій немає нічого особливого. Важливим є лише об'єкт, на який посилається ім'я:\n",
    "```\n",
    "othername = func  # Зв'язування об'єкта функції з іменем\n",
    "othername()       # Виклик функції\n",
    "```"
   ]
  },
  {
   "cell_type": "markdown",
   "metadata": {},
   "source": [
    "Крім підтримки можливості виклику, **функції дозволяють приєднувати будь-які атрибути, в яких можна зберігати інформацію для майбутнього використання**:\n",
    "```\n",
    "def func(): ...   # Створює об'єкт функції\n",
    "\n",
    "func()            # Викликає об'єкт\n",
    "\n",
    "func.attr = value # Приєднує атрибут до об'єкту\n",
    "```"
   ]
  },
  {
   "cell_type": "code",
   "execution_count": null,
   "metadata": {},
   "outputs": [],
   "source": [
    "def square(x): return x**3\n",
    "square(3)"
   ]
  },
  {
   "cell_type": "code",
   "execution_count": 15,
   "metadata": {},
   "outputs": [],
   "source": [
    "square.attr = 'новий атрибут функції'"
   ]
  },
  {
   "cell_type": "code",
   "execution_count": null,
   "metadata": {},
   "outputs": [],
   "source": [
    "square.attr"
   ]
  },
  {
   "cell_type": "markdown",
   "metadata": {},
   "source": [
    "## Інтерпретація: визначення функції і виклики функції"
   ]
  },
  {
   "cell_type": "markdown",
   "metadata": {},
   "source": [
    "Функція має дві складові:\n",
    "\n",
    "* **визначення функції** (інструкція `def`, яка створює функцію)\n",
    "\n",
    "* і **виклик функції** (вираз, який вказує інтерпретатору виконати тіло функції)."
   ]
  },
  {
   "cell_type": "markdown",
   "metadata": {},
   "source": [
    "### Визначення функції "
   ]
  },
  {
   "cell_type": "markdown",
   "metadata": {},
   "source": [
    "Коли інтерпретатор досягає інструкції `def` і виконає її, він створює новий об'єкт функції, в який упакує програмний код функції і зв'яже об'єкт з іменем функції.\n",
    "\n",
    "Як правило, такі інструкції розміщуються в файлах модулів і виконуються під час імпортування, але таку невелику  функцію можна визначити і в інтерактивній оболонці.\n"
   ]
  },
  {
   "cell_type": "code",
   "execution_count": 2,
   "metadata": {},
   "outputs": [],
   "source": [
    "def times(x, y):\n",
    "    return x * y"
   ]
  },
  {
   "cell_type": "markdown",
   "metadata": {},
   "source": [
    "## Тернарні оператори \n",
    "\n",
    "condition_is_true if_condition_1 else condition_1_is_false \n",
    "`Чи існує іншій спосіб представлення тернарних операторів?`"
   ]
  },
  {
   "cell_type": "markdown",
   "metadata": {},
   "source": [
    "### Виклик функції"
   ]
  },
  {
   "cell_type": "markdown",
   "metadata": {},
   "source": [
    "Після виконання інструкції `def` з'являється можливість викликати функцію в програмі, з додаванням круглих дужок після її імені."
   ]
  },
  {
   "cell_type": "code",
   "execution_count": null,
   "metadata": {},
   "outputs": [],
   "source": [
    "times(2, 4)"
   ]
  },
  {
   "cell_type": "code",
   "execution_count": null,
   "metadata": {},
   "outputs": [],
   "source": [
    "times('Інший тип даних ', 4)"
   ]
  },
  {
   "cell_type": "code",
   "execution_count": 3,
   "metadata": {},
   "outputs": [],
   "source": [
    "def times(x, y):\n",
    "    '''\n",
    "    Запитання: що буде роздруковувати функція при її виклику?\n",
    "    '''\n",
    "    return x * y\n",
    "    print(x)\n",
    "    print(y)"
   ]
  },
  {
   "cell_type": "code",
   "execution_count": null,
   "metadata": {},
   "outputs": [],
   "source": [
    "times(2, 3)"
   ]
  },
  {
   "cell_type": "markdown",
   "metadata": {},
   "source": [
    "## Приклади простих функцій "
   ]
  },
  {
   "cell_type": "code",
   "execution_count": 61,
   "metadata": {},
   "outputs": [],
   "source": [
    "# Функція підрахунку щорічного грошового доходу \n",
    "# salary – місячна заробітна плата \n",
    "# bonus – премії \n",
    "# months – кількість місяців \n",
    "def my_year_income(salary, bonus, months):\n",
    "    result = salary * months + bonus\n",
    "    return result"
   ]
  },
  {
   "cell_type": "code",
   "execution_count": 62,
   "metadata": {},
   "outputs": [],
   "source": [
    "?my_year_income"
   ]
  },
  {
   "cell_type": "code",
   "execution_count": 63,
   "metadata": {},
   "outputs": [
    {
     "name": "stdout",
     "output_type": "stream",
     "text": [
      "Help on function my_year_income in module __main__:\n",
      "\n",
      "my_year_income(salary, bonus, months)\n",
      "    # Функція підрахунку щорічного грошового доходу \n",
      "    # salary – місячна заробітна плата \n",
      "    # bonus – премії \n",
      "    # months – кількість місяців\n",
      "\n"
     ]
    }
   ],
   "source": [
    "help(my_year_income)"
   ]
  },
  {
   "cell_type": "code",
   "execution_count": null,
   "metadata": {},
   "outputs": [],
   "source": [
    "print(my_year_income(30000, 20000, 12))  "
   ]
  },
  {
   "cell_type": "code",
   "execution_count": 6,
   "metadata": {},
   "outputs": [],
   "source": [
    "def my_year_income(salary, bonus, months):\n",
    "    '''\n",
    "    docstring\n",
    "    Функція підрахунку щорічного грошового доходу: \n",
    "    - salary – місячна заробітна плата \n",
    "    - bonus – премії \n",
    "    - months – кількість місяців \n",
    "    '''\n",
    "    result = salary * months + bonus\n",
    "    return result"
   ]
  },
  {
   "cell_type": "code",
   "execution_count": null,
   "metadata": {},
   "outputs": [],
   "source": [
    "?my_year_income"
   ]
  },
  {
   "cell_type": "code",
   "execution_count": null,
   "metadata": {},
   "outputs": [],
   "source": [
    "print(my_year_income(40000, 20000, 12))"
   ]
  },
  {
   "cell_type": "code",
   "execution_count": 59,
   "metadata": {},
   "outputs": [],
   "source": [
    "?my_year_income"
   ]
  },
  {
   "cell_type": "code",
   "execution_count": null,
   "metadata": {},
   "outputs": [],
   "source": [
    "help(my_year_income)"
   ]
  },
  {
   "cell_type": "markdown",
   "metadata": {},
   "source": [
    "Параметри до **функції** можуть передаватися за замовчуванням "
   ]
  },
  {
   "cell_type": "code",
   "execution_count": 2,
   "metadata": {},
   "outputs": [],
   "source": [
    "def my_year_income(salary, bonus, months = 12):\n",
    "    '''\n",
    "    docstring\n",
    "    Функція підрахунку щорічного грошового доходу: \n",
    "    - salary – місячна заробітна плата \n",
    "    - bonus – премії \n",
    "    - months – кількість місяців \n",
    "    '''\n",
    "    result = salary * months + bonus\n",
    "    return result"
   ]
  },
  {
   "cell_type": "code",
   "execution_count": null,
   "metadata": {},
   "outputs": [],
   "source": [
    "print(my_year_income(40000, 20000))"
   ]
  },
  {
   "cell_type": "code",
   "execution_count": null,
   "metadata": {},
   "outputs": [],
   "source": [
    "# створюємо функцію. Який буде результат? \n",
    "def square(number):\n",
    "    result = number ** 2\n",
    "    return result\n",
    "\n",
    "    print(square(10), \"перший print\")\n",
    "my_square = square(10)\n",
    "print(my_square)"
   ]
  },
  {
   "cell_type": "code",
   "execution_count": 3,
   "metadata": {},
   "outputs": [],
   "source": [
    "# help(print)\n",
    "?print"
   ]
  },
  {
   "cell_type": "code",
   "execution_count": 25,
   "metadata": {},
   "outputs": [],
   "source": [
    "# пишемо документацію у вигляді docstring до своєї функції\n",
    "def square(number):\n",
    "    \"\"\"\n",
    "    це моя функція \n",
    "    \"\"\"\n",
    "    result = number ** 2\n",
    "    return result"
   ]
  },
  {
   "cell_type": "code",
   "execution_count": null,
   "metadata": {},
   "outputs": [],
   "source": [
    "# функція без параметрів\n",
    "def square_2():\n",
    "    user_input = int(input('Введить число: '))\n",
    "    result = user_input ** 2\n",
    "    return result\n",
    "square_2()"
   ]
  },
  {
   "cell_type": "code",
   "execution_count": null,
   "metadata": {},
   "outputs": [],
   "source": [
    "# функція з двома параметрами\n",
    "def power(number, number_2):\n",
    "    result = number ** number_2\n",
    "    return result\n",
    "power(4, 10)"
   ]
  },
  {
   "cell_type": "code",
   "execution_count": null,
   "metadata": {},
   "outputs": [],
   "source": [
    "# функція з параметром по замовчуванню \n",
    "def power(number, number_2=2):\n",
    "    result = number ** number_2\n",
    "    return result\n",
    "power(10)"
   ]
  },
  {
   "cell_type": "code",
   "execution_count": null,
   "metadata": {},
   "outputs": [],
   "source": [
    "# якщо не вказано return, функція завжди повертає None!\n",
    "def square_3(number):\n",
    "    result = number ** 2\n",
    "#     print(result)\n",
    "#     return None\n",
    "#     return\n",
    "print(square_3(5))"
   ]
  },
  {
   "cell_type": "markdown",
   "metadata": {},
   "source": [
    "### Області видимості "
   ]
  },
  {
   "cell_type": "code",
   "execution_count": null,
   "metadata": {},
   "outputs": [],
   "source": [
    "# Що буде роздруковано всередині функції ?\n",
    "a = 1\n",
    "print(a)            # Виклик змінної поза функцією \n",
    "def func_1():\n",
    "    print(\"Всередині функції: \", a)       # Виклик змінної всередині функції \n",
    "\n",
    "func_1()"
   ]
  },
  {
   "cell_type": "code",
   "execution_count": null,
   "metadata": {},
   "outputs": [],
   "source": [
    "# Який буде результат? Що буде роздруковано всередині функції?\n",
    "c = 1\n",
    "def func_1():\n",
    "    b = 2\n",
    "    def func_2():\n",
    "        a = 3\n",
    "        print(a)       # Виконає. Змінна в локальній обдасті видимості\n",
    "        print(b)       # Виконає. Змінна в локальній обдасті видимості\n",
    "                       # охоплюючої функції\n",
    "        print(c)       # Виконає. Змінна в глобальній обдасті видимості\n",
    "        print(d)       # Не виконає. Змінна не знайдена в жодній області  \n",
    "                       # видимості\n",
    "    func_2()\n",
    "print(a)        # Не виконає. Змінна визначена в локальній \n",
    "                # функції, до якої неможливо звернутися із глобальної \n",
    "                # функції\n",
    "func_1()"
   ]
  },
  {
   "cell_type": "markdown",
   "metadata": {},
   "source": [
    "Якщо змінна знаходиться в локальній області видимості, тоді вона визначена в деякої функції і доступна лише в границях цієї функції. Щоб значення змінної було доступним поза функцією, її необхідно повернути за допомогою `return`, але безпосередньо саму змінну викликати не можна. \n",
    "\n",
    "Якщо в ході викнання програми в функції відбувається запит на змінну, тоді Python буде шукати її, у першу чергу, в **локальній** області видимості. У випадку, якщо не знайде, тоді звернеться до локальної облаті видимості **охоплюючої функції** (якщо функція визначена всередині іншої функції). Доти, доки не дійде до глобальної області видимості. Якщо змінна не буде знайдена в глобальній області видимості - буде помилка. \n",
    "\n",
    "У локальних областях видимості внутрішніх функцій Python шукати змінну не буде. "
   ]
  },
  {
   "cell_type": "markdown",
   "metadata": {},
   "source": [
    "Але, якщо необхідно отримати доступ до локальних змінних, тоді існують спеціальні оператори `global` и `nonlocal`. \n",
    "\n",
    "Оператор `global` створює глобальну змінну в локальному контексті. Оператор `nonlocal` дозволяє доступ до змінної із області видимості охоплюючої функції. "
   ]
  },
  {
   "cell_type": "code",
   "execution_count": 6,
   "metadata": {},
   "outputs": [],
   "source": [
    "y, z = 1, 2      # глобальні змінні \n",
    "\n",
    "def all_global():\n",
    "    global x     # визначення глобальної змінної всередині функції \n",
    "    x = y + z\n",
    "    \n",
    "all_global()     # Який буде результат ? "
   ]
  },
  {
   "cell_type": "code",
   "execution_count": null,
   "metadata": {},
   "outputs": [],
   "source": [
    "# Звернути увагу на nonlocal\n",
    "def func_1():\n",
    "    a = 2\n",
    "    def func_2():\n",
    "        nonlocal a\n",
    "        a = 1\n",
    "        global b\n",
    "        b = 2  \n",
    "    func_2()\n",
    "\n",
    "print(a)    # Виконає? Чи ні? \n",
    "func_1()\n",
    "print(b)    # Виконає ? Чи ні ? "
   ]
  },
  {
   "cell_type": "code",
   "execution_count": null,
   "metadata": {},
   "outputs": [],
   "source": [
    "def outer():\n",
    "    x = 1\n",
    "    def inner():\n",
    "        nonlocal x\n",
    "        x = 6\n",
    "        global y\n",
    "        y = 3\n",
    "        print(\"Змінна в області видимості функції: \", x)  # Виконає. Змінна в області видимості\n",
    "    inner()\n",
    "    \n",
    "    print(\"Змінна x об'явлена як nonlocal: \", x)           # Виконає. Змінна x об'явлена як nonlocal\n",
    "    print(\"Змінна у об'явлена як global: \", y)            # Виконає. Змінна у об'явлена як global \n",
    "\n",
    "outer()"
   ]
  },
  {
   "cell_type": "code",
   "execution_count": null,
   "metadata": {},
   "outputs": [],
   "source": [
    "def func_1():\n",
    "    a = 2\n",
    "    def func_2():\n",
    "        nonlocal a\n",
    "        a = 1\n",
    "        global b\n",
    "        b = 5\n",
    "        print(a)\n",
    "    func_2()\n",
    "\n",
    "print(a)    # Виконає? Чи ні? \n",
    "func_1()\n",
    "print(b)    # Виконає ? Чи ні ? "
   ]
  },
  {
   "cell_type": "markdown",
   "metadata": {},
   "source": [
    "Використання  операторів `global` і `nonlocal` вимагає уважності, тому що при наявності однаково іменованих змінних може відбуватися перезапис значень таких змінних "
   ]
  },
  {
   "cell_type": "code",
   "execution_count": null,
   "metadata": {},
   "outputs": [],
   "source": [
    "# Звичайне виконаня функції \n",
    "a = 1\n",
    "def func_1():\n",
    "    a = 2\n",
    "    print(a)\n",
    "func_1()            # 2\n",
    "print(a)            # 1"
   ]
  },
  {
   "cell_type": "code",
   "execution_count": null,
   "metadata": {},
   "outputs": [],
   "source": [
    "# Функція з визначенням глобальної змінної - global в сеердині функції \n",
    "a = 1\n",
    "def func_1():\n",
    "    global a \n",
    "    a = 2\n",
    "    print(a)\n",
    "func_1()            # 2\n",
    "print(a)            # 2. Тому що відбувся перезапис глобальної змінної всередині функції "
   ]
  },
  {
   "cell_type": "code",
   "execution_count": null,
   "metadata": {},
   "outputs": [],
   "source": [
    "# Результат - у залежності від області видимості змінних \n",
    "number = 5\n",
    "power = 3\n",
    "\n",
    "def power_2():\n",
    "    number = 6\n",
    "    power = 2\n",
    "    return number ** power\n",
    "\n",
    "print(power_2())\n",
    "print(number ** power)"
   ]
  },
  {
   "cell_type": "code",
   "execution_count": null,
   "metadata": {},
   "outputs": [],
   "source": [
    "# Результат - у залежності від області видимості змінних\n",
    "number = 5\n",
    "power = 3\n",
    "\n",
    "def power_2():\n",
    "    number = 6\n",
    "    return number ** power\n",
    "\n",
    "print(power_2())\n",
    "print(number ** power)"
   ]
  },
  {
   "cell_type": "code",
   "execution_count": null,
   "metadata": {},
   "outputs": [],
   "source": [
    "number = 5\n",
    "power = 3\n",
    "\n",
    "def power_2():\n",
    "    return number ** power\n",
    "\n",
    "power_2()"
   ]
  },
  {
   "cell_type": "code",
   "execution_count": null,
   "metadata": {},
   "outputs": [],
   "source": [
    "# Інтерпретація результату \n",
    "def power_2():\n",
    "    number = 6\n",
    "    power = 2\n",
    "    some_number = 1\n",
    "    return number ** power\n",
    "\n",
    "print(some_number)"
   ]
  },
  {
   "cell_type": "code",
   "execution_count": null,
   "metadata": {},
   "outputs": [],
   "source": [
    "# global і nonlocal\n",
    "\n",
    "name = 'Петро'\n",
    "def сказав_привіт():\n",
    "    global name\n",
    "    name = 'Кирил'\n",
    "    print('Привіт', name)\n",
    "\n",
    "сказав_привіт()\n",
    "\n",
    "print(name)"
   ]
  },
  {
   "cell_type": "code",
   "execution_count": null,
   "metadata": {},
   "outputs": [],
   "source": [
    "def say_hello():\n",
    "    name = 'Кирил'\n",
    "    def get_name():\n",
    "        nonlocal name\n",
    "        name = input('Введить імя: ')\n",
    "        return name\n",
    "    get_name()\n",
    "    print('Привіт', name)\n",
    "\n",
    "say_hello()"
   ]
  },
  {
   "cell_type": "markdown",
   "metadata": {},
   "source": [
    "### lambda-функції"
   ]
  },
  {
   "cell_type": "code",
   "execution_count": null,
   "metadata": {},
   "outputs": [],
   "source": [
    "func = lambda x, y: x + y\n",
    "func(1, 6)"
   ]
  },
  {
   "cell_type": "code",
   "execution_count": 9,
   "metadata": {},
   "outputs": [],
   "source": [
    "nums = [1, 2, 3, 4, 5]"
   ]
  },
  {
   "cell_type": "code",
   "execution_count": 15,
   "metadata": {},
   "outputs": [],
   "source": [
    "#  even_numbers = lambda x: x % 2 == 0\n",
    "odd_even_numbers = lambda x: 'парне' if x % 2 == 0 else 'непарне'"
   ]
  },
  {
   "cell_type": "code",
   "execution_count": null,
   "metadata": {},
   "outputs": [],
   "source": [
    "for num in nums: \n",
    "#    print(even_numbers(num))\n",
    "    print(odd_even_numbers(num))"
   ]
  },
  {
   "cell_type": "code",
   "execution_count": null,
   "metadata": {},
   "outputs": [],
   "source": [
    "# функция map\n",
    "list(map(odd_even_numbers, nums))"
   ]
  },
  {
   "cell_type": "code",
   "execution_count": 18,
   "metadata": {},
   "outputs": [],
   "source": [
    "def square(x):\n",
    "    return x**2"
   ]
  },
  {
   "cell_type": "code",
   "execution_count": null,
   "metadata": {},
   "outputs": [],
   "source": [
    "for i in map(square, range(100, 105)):\n",
    "    print(i)"
   ]
  },
  {
   "cell_type": "code",
   "execution_count": null,
   "metadata": {},
   "outputs": [],
   "source": [
    "list(map(square, range(100,105))) "
   ]
  },
  {
   "cell_type": "markdown",
   "metadata": {},
   "source": [
    "### Args and kwargs\n",
    "\n",
    "Якщо кількість параметрів функції невідома, тоді при об'явленні функції можна використовувати `(*args)` і `(**kwargs)`. `(*args)` припускає, що функція буде викликана з довільним набором параметрів, які створять кортеж. `(**kwargs)` діє аналогічним образом, але розміщує набір іменованих параметрів до словника."
   ]
  },
  {
   "cell_type": "code",
   "execution_count": null,
   "metadata": {},
   "outputs": [],
   "source": [
    "def my_func_1(*parameters): # *args\n",
    "    print(parameters)\n",
    "\n",
    "my_func_1(15000, 10000, \"Привіт світ\")    # (20000, 10000)"
   ]
  },
  {
   "cell_type": "code",
   "execution_count": null,
   "metadata": {},
   "outputs": [],
   "source": [
    "def my_func_2(**parameters): # **kwargs\n",
    "    print(parameters)\n",
    "\n",
    "my_func_2(a = 20000, b = 10000, с = 3.5, d = \"Привіт світ\") # {a: 20000, b: 10000"
   ]
  },
  {
   "cell_type": "code",
   "execution_count": 8,
   "metadata": {},
   "outputs": [],
   "source": [
    "def api_request(*params):\n",
    "    date_start = params[0]\n",
    "    date_end = params[1]\n",
    "    print(params)\n",
    "    print(date_start, date_end)"
   ]
  },
  {
   "cell_type": "code",
   "execution_count": null,
   "metadata": {},
   "outputs": [],
   "source": [
    "api_request('2019-01-01', '2019-01-31', 'Параметр_3', 'Параметр_4', 'Параметр_5')"
   ]
  },
  {
   "cell_type": "code",
   "execution_count": 24,
   "metadata": {},
   "outputs": [],
   "source": [
    "def api_requets(**params):\n",
    "    return params"
   ]
  },
  {
   "cell_type": "code",
   "execution_count": null,
   "metadata": {},
   "outputs": [],
   "source": [
    "api_requets(a=1, b=2, c=3)"
   ]
  },
  {
   "cell_type": "code",
   "execution_count": 26,
   "metadata": {},
   "outputs": [],
   "source": [
    "def api_request(**params):\n",
    "    date_start = params['date_start']\n",
    "    date_end = params['date_end']\n",
    "    print(params)\n",
    "    print(date_start, date_end)"
   ]
  },
  {
   "cell_type": "code",
   "execution_count": null,
   "metadata": {},
   "outputs": [],
   "source": [
    "api_request(date_start='2019-01-31', date_end='2019-01-01')"
   ]
  },
  {
   "cell_type": "markdown",
   "metadata": {},
   "source": [
    "### Приклади функцій \n"
   ]
  },
  {
   "cell_type": "markdown",
   "metadata": {},
   "source": [
    "### Функція визначення максимального і мінімального елементу списку "
   ]
  },
  {
   "cell_type": "code",
   "execution_count": 28,
   "metadata": {},
   "outputs": [],
   "source": [
    "def maximin_list(a):\n",
    "    max = a[0]\n",
    "    \n",
    "    for i in a[1:]:\n",
    "        if i>max :\n",
    "            max = i\n",
    "\n",
    "    min = a[0]\n",
    "    for i in a[1:]:\n",
    "        if i<min :\n",
    "            min = i\n",
    "    \n",
    "    return max, min"
   ]
  },
  {
   "cell_type": "markdown",
   "metadata": {},
   "source": [
    "### Виклик функції  "
   ]
  },
  {
   "cell_type": "code",
   "execution_count": 29,
   "metadata": {},
   "outputs": [
    {
     "data": {
      "text/plain": [
       "(10, 5)"
      ]
     },
     "execution_count": 29,
     "metadata": {},
     "output_type": "execute_result"
    }
   ],
   "source": [
    "maximin_list([10, 5, 6, 9])"
   ]
  },
  {
   "cell_type": "markdown",
   "metadata": {},
   "source": [
    "# Функції вищих порядків "
   ]
  },
  {
   "cell_type": "markdown",
   "metadata": {},
   "source": [
    "## Функція map() "
   ]
  },
  {
   "cell_type": "code",
   "execution_count": 30,
   "metadata": {},
   "outputs": [],
   "source": [
    "list_1 = [1, 2, 3, 4]"
   ]
  },
  {
   "cell_type": "code",
   "execution_count": 31,
   "metadata": {},
   "outputs": [],
   "source": [
    "list_2 = [1, 5, 5, 6, 1]"
   ]
  },
  {
   "cell_type": "code",
   "execution_count": null,
   "metadata": {},
   "outputs": [],
   "source": [
    "def inc_plus(x):\n",
    "    return x + 10\n",
    "\n",
    "map(inc_plus, list_1)\n",
    "for i in map(inc_plus, list_1):\n",
    "    print(i)"
   ]
  },
  {
   "cell_type": "code",
   "execution_count": null,
   "metadata": {},
   "outputs": [],
   "source": [
    "map(lambda x, y: x**y, list_1, list_2)\n",
    "for i in map(lambda x, y: x**y, list_1, list_2):\n",
    "    print(i)"
   ]
  },
  {
   "cell_type": "code",
   "execution_count": null,
   "metadata": {},
   "outputs": [],
   "source": [
    "[x * y for x, y in zip(list_1, list_2)]"
   ]
  }
 ],
 "metadata": {
  "kernelspec": {
   "display_name": "Python 3",
   "language": "python",
   "name": "python3"
  },
  "language_info": {
   "codemirror_mode": {
    "name": "ipython",
    "version": 3
   },
   "file_extension": ".py",
   "mimetype": "text/x-python",
   "name": "python",
   "nbconvert_exporter": "python",
   "pygments_lexer": "ipython3",
   "version": "3.7.6"
  }
 },
 "nbformat": 4,
 "nbformat_minor": 4
}
