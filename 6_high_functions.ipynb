{
 "cells": [
  {
   "cell_type": "markdown",
   "metadata": {},
   "source": [
    "# Функції вищих порядків"
   ]
  },
  {
   "cell_type": "markdown",
   "metadata": {},
   "source": [
    "### `Анонимні функції`\n",
    "\n",
    "- `def` - не єдиний спосіб визначення функції\n",
    "- `lambda` створює анонимну (lambda) функцію\n"
   ]
  },
  {
   "cell_type": "code",
   "execution_count": null,
   "metadata": {},
   "outputs": [],
   "source": [
    "def func(x): return x ** 3\n",
    "\n",
    "func(6)"
   ]
  },
  {
   "cell_type": "code",
   "execution_count": null,
   "metadata": {},
   "outputs": [],
   "source": [
    "lambda_func = lambda x: x ** 3  # після : повинно бути визначений відповідний вираз для очислення анонимної функції\n",
    "lambda_func(6)"
   ]
  },
  {
   "cell_type": "code",
   "execution_count": null,
   "metadata": {},
   "outputs": [],
   "source": [
    "lambda_func = lambda x: print(x ** 3)  # після : повинно бути визначений відповідний вираз для \n",
    "                                       # обчислення анонимної функції\n",
    "lambda_func(6)"
   ]
  },
  {
   "cell_type": "markdown",
   "metadata": {},
   "source": [
    "### Функція map()\n",
    "\n",
    "Замість використання циклу **for** функція **map()** дає можливість застосувати функцію до **кожного** елементу ітеріруемого об'єкта. Це підвищує продуктивність, оскільки функція застосовується тільки до **одного** елементу за один раз без створення копій елементів в іншому ітеріруемому об'єкті. Це особливо корисно при обробці великих даних."
   ]
  },
  {
   "cell_type": "code",
   "execution_count": 1,
   "metadata": {},
   "outputs": [],
   "source": [
    "list_1 = [1, 2, 3, 4]"
   ]
  },
  {
   "cell_type": "code",
   "execution_count": 2,
   "metadata": {},
   "outputs": [],
   "source": [
    "list_2 = [1, 5, 5, 6, 1]"
   ]
  },
  {
   "cell_type": "code",
   "execution_count": null,
   "metadata": {},
   "outputs": [],
   "source": [
    "def inc_plus(x):\n",
    "    return x + 10\n",
    "\n",
    "map(inc_plus, list_1)\n",
    "for i in map(inc_plus, list_1):\n",
    "    print(i)"
   ]
  },
  {
   "cell_type": "code",
   "execution_count": null,
   "metadata": {},
   "outputs": [],
   "source": [
    "map(lambda x, y: x**y, list_1, list_2)\n",
    "for i in map(lambda x, y: x**y, list_1, list_2):\n",
    "    print(i)"
   ]
  },
  {
   "cell_type": "code",
   "execution_count": null,
   "metadata": {},
   "outputs": [],
   "source": [
    "[x * y for x, y in zip(list_1, list_2)]"
   ]
  },
  {
   "cell_type": "markdown",
   "metadata": {},
   "source": [
    "### Функція enumerate()\n",
    "Функція **enumerate(arg_1,arg_2)** має два аргументи:\n",
    "\n",
    "**arg_1** - oб'єкт, елементи якого перебираються. \n",
    "**arg_2** - початкове значення індексу (start). За замовчуванням start = 0.\n",
    "\n",
    "Повертає ітератор на кортеж з двох елементів: **індекс** і відповідний **елемент** об'єкту."
   ]
  },
  {
   "cell_type": "code",
   "execution_count": null,
   "metadata": {},
   "outputs": [],
   "source": [
    "data = [8, 6, -5, 1, -2, 3, 18, -99, 999]\n",
    "for  num, value in enumerate(data, 1):\n",
    "    print(str(num) + '-е значення дорівнює ' + str(value))"
   ]
  },
  {
   "cell_type": "code",
   "execution_count": null,
   "metadata": {},
   "outputs": [],
   "source": [
    "b = enumerate(data)\n",
    "c = next(b)\n",
    "print(c)\n",
    "print(type(c))\n",
    "print(next(b))"
   ]
  },
  {
   "cell_type": "code",
   "execution_count": null,
   "metadata": {},
   "outputs": [],
   "source": [
    "print(type(b))"
   ]
  },
  {
   "cell_type": "code",
   "execution_count": null,
   "metadata": {},
   "outputs": [],
   "source": [
    "for index, element in enumerate(list('АБСДЕФЖІЇ')):\n",
    "    print(index, element, end='   ')"
   ]
  },
  {
   "cell_type": "code",
   "execution_count": null,
   "metadata": {},
   "outputs": [],
   "source": []
  },
  {
   "cell_type": "markdown",
   "metadata": {},
   "source": [
    "### Функція filter()\n",
    "Функція **filter(arg_1,arg_2)** повертає ітератор, що створений із тих елементів послідовності, для яких функція - (**arg_1**) повернула **істину**. \n",
    "\n",
    "**arg_2** - послідовність"
   ]
  },
  {
   "cell_type": "code",
   "execution_count": null,
   "metadata": {},
   "outputs": [],
   "source": [
    "data = [8, 6, -5, 1, -2, 3, 18, -99, 999]\n",
    "b = filter(lambda x: x > 0, data)"
   ]
  },
  {
   "cell_type": "code",
   "execution_count": null,
   "metadata": {},
   "outputs": [],
   "source": [
    "b"
   ]
  },
  {
   "cell_type": "code",
   "execution_count": null,
   "metadata": {},
   "outputs": [],
   "source": [
    "print(b)"
   ]
  },
  {
   "cell_type": "code",
   "execution_count": 294,
   "metadata": {},
   "outputs": [],
   "source": [
    "# ? "
   ]
  },
  {
   "cell_type": "code",
   "execution_count": null,
   "metadata": {},
   "outputs": [],
   "source": [
    "\"\"\"\n",
    "    Видалення стоп слів \n",
    "    із рядка з використанням функції filter()\n",
    "\"\"\"\n",
    "\n",
    "# Список стоп-слів\n",
    "list_of_stop_words = [\"з\", \"і\", \"на\", \"в\", \"за\"]\n",
    "\n",
    "# Рядок зі стоп-словами \n",
    "string_to_process = \"Компанія HR оприлюднила сервіс з пошуку работи і спвіробітників на ринку ІТ в Україні за жовтень місяць\"\n",
    "\n",
    "# lambda-функція, що фільтрує стоп-слова \n",
    "split_str = string_to_process.split()\n",
    "filtered_str = ' '.join((filter(lambda s: s not in list_of_stop_words, split_str)))\n",
    "\n",
    "print(\"Рядок без стоп-слів: \", filtered_str)"
   ]
  },
  {
   "cell_type": "code",
   "execution_count": null,
   "metadata": {},
   "outputs": [],
   "source": [
    "type(filtered_str)"
   ]
  },
  {
   "cell_type": "markdown",
   "metadata": {},
   "source": [
    "### Функція reduce()\n",
    "Функція **reduce(arg_1, arg_2, initializer)** із модуля **functools** використовується для згортання різного роду ітеріруемих об'єктів (iterables) в одне єдине значення.\n",
    "\n",
    "**arg_1** - функція (анонімна функція)\n",
    "\n",
    "**arg_2** - ітеріруємий об'єкт\n",
    "\n",
    "**initializer** - необов'язковий елемент, який першим передається функції "
   ]
  },
  {
   "cell_type": "code",
   "execution_count": 105,
   "metadata": {},
   "outputs": [],
   "source": [
    "from functools import reduce\n",
    "numbers = [1,2,3,4,5]\n",
    "result = reduce(lambda a,b: a*b, numbers)"
   ]
  },
  {
   "cell_type": "markdown",
   "metadata": {},
   "source": [
    "**Ітерація 1**. Анонімній функції передаються перші два елементи ітеріруемого об'єкту: `1` і `2`. Повертається результат: `2`.\n",
    "\n",
    "**Ітерація 2**. Анонімній функції передаються отриманий результат - `2` і наступний елемент об'єкту - `3`. Результат - `6`.\n",
    "\n",
    "**Ітерація 3**. Для `6` і `4` повертається результат `24`.\n",
    "\n",
    "**Ітерація 4**. На останньому кроці передаються `24` і `5`. Результат - `120`."
   ]
  },
  {
   "cell_type": "code",
   "execution_count": null,
   "metadata": {},
   "outputs": [],
   "source": [
    "result"
   ]
  },
  {
   "cell_type": "code",
   "execution_count": null,
   "metadata": {},
   "outputs": [],
   "source": [
    "reduce(lambda res, x: res*x, data, 0)"
   ]
  },
  {
   "cell_type": "code",
   "execution_count": null,
   "metadata": {},
   "outputs": [],
   "source": [
    "func = lambda *args: args\n",
    "func(1, 2, 3, 4)"
   ]
  },
  {
   "cell_type": "code",
   "execution_count": null,
   "metadata": {},
   "outputs": [],
   "source": [
    "(lambda x, y, z: x + y + z)(1, 2, 3)"
   ]
  },
  {
   "cell_type": "code",
   "execution_count": null,
   "metadata": {},
   "outputs": [],
   "source": [
    "r = lambda x, y, z: x + y + z"
   ]
  },
  {
   "cell_type": "code",
   "execution_count": 170,
   "metadata": {},
   "outputs": [],
   "source": [
    "z = r(1, 2, 3)"
   ]
  },
  {
   "cell_type": "code",
   "execution_count": null,
   "metadata": {},
   "outputs": [],
   "source": [
    "z"
   ]
  },
  {
   "cell_type": "markdown",
   "metadata": {},
   "source": [
    "### Функція zip()\n",
    "\n",
    "Функція **zip(arg_1, arg_2)** дозволяє поелементно агрегувати елементи переданих ітеріруемих об'єктів. Функція **zip()** повертає спеціальний об'єкт-ітератор - кортеж. \n",
    "\n",
    "**arg_1** - ітеріруемий об'єкт №1\n",
    "\n",
    "**arg_2** - ітеріруемий об'єкт №2\n",
    "\n",
    "\n",
    "Якщо до функції передаються послідовності, які  мають різну довжину, тоді **zip()** припинить роботу, як тільки закінчиться найкоротша послідовність.\n",
    "\n",
    "Втім, якщо не потрібно втрачати жодного елементу ітеріруемих об'єктів через різницю їх довжини, тоді використовують  споріднену **zip()** функцію **zip_longest()** з модуля **itertools**."
   ]
  },
  {
   "cell_type": "code",
   "execution_count": null,
   "metadata": {},
   "outputs": [],
   "source": [
    "z = zip([1, 2, 3], 'АБВ')\n",
    "print(type(z))\n",
    "\n",
    "for a, b in z:\n",
    "    print(a, b, end='  ')"
   ]
  },
  {
   "cell_type": "code",
   "execution_count": null,
   "metadata": {},
   "outputs": [],
   "source": [
    "for e in zip('АБВГДЕ', 'абв'):\n",
    "    print(e)"
   ]
  },
  {
   "cell_type": "code",
   "execution_count": null,
   "metadata": {},
   "outputs": [],
   "source": [
    "for a, b, c, d in zip('АБВ', [1,2,3], [True, False, None], 'xyz'):\n",
    "    print(a, b, c, d)"
   ]
  },
  {
   "cell_type": "code",
   "execution_count": 204,
   "metadata": {},
   "outputs": [],
   "source": [
    "names = ['Анастасія', 'Олександр', 'Вікторія', 'Павло', 'Никита']\n",
    "ages = [18, 19, 17, 21, 20]\n",
    "# pension = [42, 41, 43, 39, 40]"
   ]
  },
  {
   "cell_type": "code",
   "execution_count": 201,
   "metadata": {},
   "outputs": [],
   "source": [
    "people = dict(zip(names, ages))"
   ]
  },
  {
   "cell_type": "code",
   "execution_count": null,
   "metadata": {},
   "outputs": [],
   "source": [
    "print(people)"
   ]
  },
  {
   "cell_type": "code",
   "execution_count": null,
   "metadata": {},
   "outputs": [],
   "source": [
    "from itertools import zip_longest\n",
    "names = ['Анастасія', 'Олександр', 'Вікторія', 'Павло', 'Никита']\n",
    "ages = [18, 19, 17, 21, 20]\n",
    "names.append('Зоя')\n",
    "people = dict(zip_longest(names, ages, fillvalue='Unknown'))\n",
    "people"
   ]
  },
  {
   "cell_type": "markdown",
   "metadata": {},
   "source": [
    "### Функція замикання \n",
    "\n",
    "У загальному випадку, операція комбінування об'єктів даних має властивість **замикання** в тому випадку, якщо результати з'єднання об'єктів за допомогою цієї операції самі можуть з'єднуватися цією ж операцією.\n",
    "\n",
    "Приклад: множина натуральних чисел **замкнуто** відносно операції додавання - які б натуральні числа ми не складали, отримаємо натуральне число, але ця множина не є замкнутою відносно операції віднімання.\n",
    "\n",
    "**Замикання** (closure) в програмуванні - це **функція**, в тілі якої присутні посилання на змінні, оголошені поза тілом цієї функції в коді програми і не є параметрами цієї функції. \n",
    "\n",
    "Функції побудовані за таким принципом можуть використовуватися для побудови спеціалізованих функцій, тобто є **фабриками** функцій."
   ]
  },
  {
   "cell_type": "code",
   "execution_count": null,
   "metadata": {},
   "outputs": [],
   "source": [
    "def f(x):\n",
    "    return x + 3\n",
    "\n",
    "def g(function, x):\n",
    "    return function(x) * function(x)\n",
    "\n",
    "print(g(f, 7))"
   ]
  },
  {
   "cell_type": "code",
   "execution_count": null,
   "metadata": {},
   "outputs": [],
   "source": [
    "f(7)"
   ]
  },
  {
   "cell_type": "code",
   "execution_count": 262,
   "metadata": {},
   "outputs": [],
   "source": [
    "def make_adder(x):\n",
    "    def adder(n):\n",
    "        return x + n  # захоплення змінної х із тіла програми. n - не є параметром функції\n",
    "    return adder"
   ]
  },
  {
   "cell_type": "code",
   "execution_count": 265,
   "metadata": {},
   "outputs": [],
   "source": [
    "f = make_adder(20)"
   ]
  },
  {
   "cell_type": "code",
   "execution_count": null,
   "metadata": {},
   "outputs": [],
   "source": [
    "print(f(10))"
   ]
  },
  {
   "cell_type": "code",
   "execution_count": null,
   "metadata": {},
   "outputs": [],
   "source": [
    "print(f(-10))"
   ]
  },
  {
   "cell_type": "code",
   "execution_count": 219,
   "metadata": {},
   "outputs": [],
   "source": [
    "# тех саме з анонімною функцією \n",
    "make_adder = lambda x: (lambda n: (x + n))"
   ]
  },
  {
   "cell_type": "code",
   "execution_count": 220,
   "metadata": {},
   "outputs": [],
   "source": [
    "f = make_adder(20)"
   ]
  },
  {
   "cell_type": "code",
   "execution_count": null,
   "metadata": {},
   "outputs": [],
   "source": [
    "print(f(10))"
   ]
  },
  {
   "cell_type": "code",
   "execution_count": null,
   "metadata": {},
   "outputs": [],
   "source": [
    "print(f(-10))"
   ]
  },
  {
   "cell_type": "code",
   "execution_count": null,
   "metadata": {},
   "outputs": [],
   "source": [
    "# приклад фабрики функцій\n",
    "def множення(a, b):\n",
    "        return a * b\n",
    "\n",
    "множення(5, 4)"
   ]
  },
  {
   "cell_type": "code",
   "execution_count": null,
   "metadata": {},
   "outputs": [],
   "source": [
    "множення(5, 8)"
   ]
  },
  {
   "cell_type": "code",
   "execution_count": null,
   "metadata": {},
   "outputs": [],
   "source": [
    "множення(5, 9)"
   ]
  },
  {
   "cell_type": "code",
   "execution_count": 233,
   "metadata": {},
   "outputs": [],
   "source": [
    "def множення5(a):\n",
    "        return множення(5, a)"
   ]
  },
  {
   "cell_type": "code",
   "execution_count": null,
   "metadata": {},
   "outputs": [],
   "source": [
    "множення5(9)"
   ]
  },
  {
   "cell_type": "code",
   "execution_count": null,
   "metadata": {},
   "outputs": [],
   "source": [
    "# приклад фабрики функцій\n",
    "def function_creator(n):\n",
    "    def function(x):\n",
    "        return x ** n\n",
    "\n",
    "    return function\n",
    "\n",
    "f = function_creator(5)\n",
    "f(2)"
   ]
  },
  {
   "cell_type": "code",
   "execution_count": 243,
   "metadata": {},
   "outputs": [],
   "source": [
    "# замикання - фабрика функцій\n",
    "def множення(a):\n",
    "        def helper(b):\n",
    "            return a * b\n",
    "        return helper"
   ]
  },
  {
   "cell_type": "code",
   "execution_count": null,
   "metadata": {},
   "outputs": [],
   "source": [
    "множення(5)(2)"
   ]
  },
  {
   "cell_type": "code",
   "execution_count": null,
   "metadata": {},
   "outputs": [],
   "source": [
    "# ? результат ?\n",
    "множення(5)"
   ]
  },
  {
   "cell_type": "code",
   "execution_count": 246,
   "metadata": {},
   "outputs": [],
   "source": [
    "нове_множення5 = множення(5)"
   ]
  },
  {
   "cell_type": "code",
   "execution_count": null,
   "metadata": {},
   "outputs": [],
   "source": [
    "нове_множення5(3)"
   ]
  },
  {
   "cell_type": "code",
   "execution_count": 247,
   "metadata": {},
   "outputs": [],
   "source": [
    "def fun1(a):\n",
    "        x = a * 3\n",
    "        def fun2(b):\n",
    "            nonlocal x\n",
    "            return b + x\n",
    "        return fun2\n",
    "\n",
    "test_fun = fun1(4)"
   ]
  },
  {
   "cell_type": "code",
   "execution_count": null,
   "metadata": {},
   "outputs": [],
   "source": [
    "# результат ?\n",
    "test_fun"
   ]
  },
  {
   "cell_type": "code",
   "execution_count": null,
   "metadata": {},
   "outputs": [],
   "source": [
    "test_fun(7)"
   ]
  },
  {
   "cell_type": "code",
   "execution_count": 251,
   "metadata": {},
   "outputs": [],
   "source": [
    "tpl = lambda a, b: (a, b)"
   ]
  },
  {
   "cell_type": "code",
   "execution_count": 254,
   "metadata": {},
   "outputs": [],
   "source": [
    "# фабрики функцій - іерархічні бази даних\n",
    "a = tpl(1, 2)"
   ]
  },
  {
   "cell_type": "code",
   "execution_count": null,
   "metadata": {},
   "outputs": [],
   "source": [
    "a"
   ]
  },
  {
   "cell_type": "code",
   "execution_count": 256,
   "metadata": {},
   "outputs": [],
   "source": [
    "b = tpl(3, a)"
   ]
  },
  {
   "cell_type": "code",
   "execution_count": null,
   "metadata": {},
   "outputs": [],
   "source": [
    "b"
   ]
  },
  {
   "cell_type": "code",
   "execution_count": 258,
   "metadata": {},
   "outputs": [],
   "source": [
    "c = tpl(a, b)"
   ]
  },
  {
   "cell_type": "code",
   "execution_count": null,
   "metadata": {},
   "outputs": [],
   "source": [
    "c"
   ]
  },
  {
   "cell_type": "markdown",
   "metadata": {},
   "source": [
    "##### Висновок: кортежі є замкнутими відносно операції tpl їх об'єднання"
   ]
  },
  {
   "cell_type": "code",
   "execution_count": null,
   "metadata": {},
   "outputs": [],
   "source": []
  }
 ],
 "metadata": {
  "kernelspec": {
   "display_name": "Python 3",
   "language": "python",
   "name": "python3"
  },
  "language_info": {
   "codemirror_mode": {
    "name": "ipython",
    "version": 3
   },
   "file_extension": ".py",
   "mimetype": "text/x-python",
   "name": "python",
   "nbconvert_exporter": "python",
   "pygments_lexer": "ipython3",
   "version": "3.7.6"
  }
 },
 "nbformat": 4,
 "nbformat_minor": 4
}
