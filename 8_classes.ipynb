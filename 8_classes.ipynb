{
 "cells": [
  {
   "cell_type": "markdown",
   "metadata": {},
   "source": [
    "## Класи"
   ]
  },
  {
   "cell_type": "markdown",
   "metadata": {},
   "source": [
    "**ООП** - це метод структурування програм шляхом об'єднання зв'язаних властивостей і методів до окремих об'єктів.\n",
    "\n",
    "**ООП** - це парадигма програмування, яка уявляє властивості структурування програм таким чином, щоб їх властивості і поведінка були об'єднані в окремі об'єкти. \n",
    "\n",
    "За визначення **Граді Буча** говорить: \"**ООП** - це методологія програмування, яка заснована на поданні програми у вигляді сукупності об'єктів, кожен з яких є реалізацією певного класу (типу даних особливого виду), а класи утворюють ієрархію на принципах успадковання\".\n",
    "\n",
    "**ООП** – це підхід для моделювання об'єктів реального світу, та відношень між ними. Тобто, за допомогою **ООП** програмно моделюються об'єкти реального світу і функції, які вони виконують. Функції об'єктів в **ООП** мають назву методи.    \n",
    "\n",
    "\n",
    "Класи і об'єкти в **ООП** — різні поняття. Поняття класу в **ООП** – зв'язується типом даних користувача (розробника), а об'єкт – є конкретним экземпляром цього класу (фактично його копією, створеної по шаблону), яка живе в програмі як змінна відповідного типу.\n",
    "\n",
    "Клас є структурним елеменом. Він включає, крім опису полів, опис процедур і функцій, які працюють з цими полями. \n",
    "\n",
    "\n",
    "Створнення класу з:\n",
    "\n",
    "- атрибутами, які має клас \n",
    "- методами: тобто функцій, які можуть виконуватися з атрибутами класу \n",
    "\n",
    "![](./img/oop.png)\n",
    "\n",
    "## Визначення класу"
   ]
  },
  {
   "cell_type": "code",
   "execution_count": null,
   "metadata": {},
   "outputs": [],
   "source": [
    "class PObject:\n",
    "    pass\n",
    "\n",
    "object1 = PObject()\n",
    "object2 = PObject()\n",
    "object3 = PObject()\n",
    "\n",
    "print(type(None))\n",
    "print(type(True))\n",
    "print(type(5))\n",
    "print(type(5.5))\n",
    "print(type('hi'))\n",
    "print(type([]))\n",
    "print(type(()))\n",
    "print(type({}))"
   ]
  },
  {
   "cell_type": "code",
   "execution_count": null,
   "metadata": {},
   "outputs": [],
   "source": [
    "print(type(object1))"
   ]
  },
  {
   "cell_type": "code",
   "execution_count": null,
   "metadata": {},
   "outputs": [],
   "source": [
    "print(type(object2))"
   ]
  },
  {
   "cell_type": "code",
   "execution_count": null,
   "metadata": {},
   "outputs": [],
   "source": [
    "print(type(object3))"
   ]
  },
  {
   "cell_type": "code",
   "execution_count": null,
   "metadata": {},
   "outputs": [],
   "source": [
    "object1"
   ]
  },
  {
   "cell_type": "code",
   "execution_count": null,
   "metadata": {},
   "outputs": [],
   "source": [
    "object2"
   ]
  },
  {
   "cell_type": "code",
   "execution_count": null,
   "metadata": {},
   "outputs": [],
   "source": [
    "object3"
   ]
  },
  {
   "cell_type": "code",
   "execution_count": 23,
   "metadata": {},
   "outputs": [],
   "source": [
    "class Student():\n",
    "    \"\"\"Створення класу - пустого класу\n",
    "    \n",
    "    Набір характеристик, що ідентифікують студента \n",
    "    \"\"\"\n",
    "    pass"
   ]
  },
  {
   "cell_type": "code",
   "execution_count": null,
   "metadata": {},
   "outputs": [],
   "source": [
    "volodymyr = Student()  # Створення екземпляру класу \n",
    "volodymyr"
   ]
  },
  {
   "cell_type": "code",
   "execution_count": null,
   "metadata": {},
   "outputs": [],
   "source": [
    "петро = Student()  # Створення іншого екземпляру класу \n",
    "петро"
   ]
  },
  {
   "cell_type": "markdown",
   "metadata": {},
   "source": [
    "## Атрибути класу"
   ]
  },
  {
   "cell_type": "code",
   "execution_count": 53,
   "metadata": {},
   "outputs": [],
   "source": [
    "class Student():\n",
    "    courses = [\"СППР\", \"ІТ\", \"Бази даних\"]\n",
    "    age = 20\n",
    "    course = 2\n",
    "    range = 'A'\n",
    "#Знову створимо екземпляр клас volodymyr\n",
    "volodymyr = Student()"
   ]
  },
  {
   "cell_type": "markdown",
   "metadata": {},
   "source": [
    "Доступ до атрибутів класу"
   ]
  },
  {
   "cell_type": "code",
   "execution_count": null,
   "metadata": {},
   "outputs": [],
   "source": [
    "volodymyr.courses"
   ]
  },
  {
   "cell_type": "code",
   "execution_count": null,
   "metadata": {},
   "outputs": [],
   "source": [
    "volodymyr.age"
   ]
  },
  {
   "cell_type": "code",
   "execution_count": null,
   "metadata": {},
   "outputs": [],
   "source": [
    "volodymyr.range"
   ]
  },
  {
   "cell_type": "code",
   "execution_count": null,
   "metadata": {},
   "outputs": [],
   "source": [
    "petro = Student()\n",
    "petro.age"
   ]
  },
  {
   "cell_type": "code",
   "execution_count": null,
   "metadata": {},
   "outputs": [],
   "source": [
    "petro.range"
   ]
  },
  {
   "cell_type": "markdown",
   "metadata": {},
   "source": [
    "З атрибутами класу можна проводити операції як і з іншими Python змінними"
   ]
  },
  {
   "cell_type": "code",
   "execution_count": null,
   "metadata": {},
   "outputs": [],
   "source": [
    "volodymyr.courses.append(\"Англійська мова\")\n",
    "volodymyr.courses"
   ]
  },
  {
   "cell_type": "code",
   "execution_count": null,
   "metadata": {},
   "outputs": [],
   "source": [
    "volodymyr.age = 21\n",
    "volodymyr.age"
   ]
  },
  {
   "cell_type": "code",
   "execution_count": null,
   "metadata": {},
   "outputs": [],
   "source": [
    "volodymyr.course = 3\n",
    "volodymyr.course"
   ]
  },
  {
   "cell_type": "code",
   "execution_count": null,
   "metadata": {},
   "outputs": [],
   "source": [
    "volodymyr.range = 'B'\n",
    "volodymyr.range"
   ]
  },
  {
   "cell_type": "markdown",
   "metadata": {},
   "source": [
    "#### Недоліки такого визначення екземплярів класу ? "
   ]
  },
  {
   "cell_type": "code",
   "execution_count": 1,
   "metadata": {},
   "outputs": [],
   "source": [
    "class Elevator:\n",
    "    \"\"\" Спрошщений клас, що здійнює опис ліфту \"\"\"\n",
    "    # змінна класу, яка визначає скільки людей було перевезено усіма наявними ліфтами \n",
    "    people_lifted = 0\n",
    " \n",
    "    # конструктор класу, який викликається при створенні екземпляру класу \n",
    "    def __init__(self,name):\n",
    "        self.name = name\n",
    "        # змінна екземпляру класу, яка визначає скільки людей було перевезено ліфтом визначеного типу \n",
    "        self.people_lifted = 0\n",
    " \n",
    "    # метод перевезення людей \n",
    "    def lift(self):\n",
    "        print (\"Ліфт марки  {} перевезення людей\".format(self.name))\n",
    "        # збільшення кількості людей, перевезеним визначеним типом ліфту \n",
    "        self.people_lifted += 1\n",
    "        # збільшення кількості людей, перевезеними усіма наявними ліфтами \n",
    "        Elevator.people_lifted += 1\n",
    "        \n",
    "        # метод, який видає інформацію про перевезення конкретним типом ліфту \n",
    "    def info(self):\n",
    "        print (self.name, \"перевезено\", self.people_lifted, \"людей із загальної кількості\", Elevator.people_lifted)"
   ]
  },
  {
   "cell_type": "code",
   "execution_count": 2,
   "metadata": {},
   "outputs": [],
   "source": [
    "lift = Elevator(5)"
   ]
  },
  {
   "cell_type": "code",
   "execution_count": null,
   "metadata": {},
   "outputs": [],
   "source": [
    "lift.info()"
   ]
  },
  {
   "cell_type": "code",
   "execution_count": 4,
   "metadata": {},
   "outputs": [],
   "source": [
    "lift_1 = Elevator(\"Тошиба\")\n",
    "lift_2 = Elevator(\"Хюндай\")\n",
    "lift_3 = Elevator(\"Міцубісі\")"
   ]
  },
  {
   "cell_type": "code",
   "execution_count": null,
   "metadata": {},
   "outputs": [],
   "source": [
    "# перевезення однієї людини ліфтом типу \"Тошиба\"\n",
    "lift_1.lift()"
   ]
  },
  {
   "cell_type": "code",
   "execution_count": null,
   "metadata": {},
   "outputs": [],
   "source": [
    "# перевезення трьох людей ліфтом типу \"Міцубісі\"\n",
    "lift_3.lift()\n",
    "lift_3.lift()\n",
    "lift_3.lift()"
   ]
  },
  {
   "cell_type": "code",
   "execution_count": null,
   "metadata": {},
   "outputs": [],
   "source": [
    "# перевезення двох людей ліфтом типу \"Хюндай\"\n",
    "lift_2.lift()\n",
    "lift_2.lift()"
   ]
  },
  {
   "cell_type": "code",
   "execution_count": null,
   "metadata": {},
   "outputs": [],
   "source": [
    "# отримання загальної інформації про перевезення людей ліфтом типу \"Тошиба\"\n",
    "lift_1.info()"
   ]
  },
  {
   "cell_type": "code",
   "execution_count": null,
   "metadata": {},
   "outputs": [],
   "source": [
    "# отримання загальної інформації про перевезення людей ліфтом типу \"Хюндай\"\n",
    "lift_2.info()"
   ]
  },
  {
   "cell_type": "code",
   "execution_count": null,
   "metadata": {},
   "outputs": [],
   "source": [
    "# отримання загальної інформації про перевезення людей ліфтом типу \"Міцубісі\"\n",
    "lift_3.info()"
   ]
  },
  {
   "cell_type": "code",
   "execution_count": null,
   "metadata": {},
   "outputs": [],
   "source": [
    "# перевезення однієї людини ліфтом типу \"Тошиба\"\n",
    "lift_1.lift()\n",
    "# перевезення трьох людей ліфтом типу \"Міцубісі\"\n",
    "lift_3.lift()\n",
    "lift_3.lift()\n",
    "lift_3.lift()\n",
    "# перевезення двох людей ліфтом типу \"Хюндай\"\n",
    "lift_2.lift()\n",
    "lift_2.lift()\n",
    "# отримання загальної інформації про перевезення людей ліфтом типу \"Тошиба\"\n",
    "lift_1.info()\n",
    "\n",
    "# отримання загальної інформації про перевезення людей ліфтом типу \"Хюндай\"\n",
    "lift_2.info()\n",
    "# отримання загальної інформації про перевезення людей ліфтом типу \"Міцубісі\"\n",
    "lift_3.info()"
   ]
  },
  {
   "cell_type": "code",
   "execution_count": 12,
   "metadata": {},
   "outputs": [],
   "source": [
    "lift = Elevator(\"Шиндлер\")"
   ]
  },
  {
   "cell_type": "code",
   "execution_count": null,
   "metadata": {},
   "outputs": [],
   "source": [
    "lift.lift()"
   ]
  },
  {
   "cell_type": "code",
   "execution_count": null,
   "metadata": {},
   "outputs": [],
   "source": [
    "lift.info()"
   ]
  },
  {
   "cell_type": "markdown",
   "metadata": {},
   "source": [
    "##### Головний недолік такого перевезення ?"
   ]
  },
  {
   "cell_type": "markdown",
   "metadata": {},
   "source": [
    "## Mетоди"
   ]
  },
  {
   "cell_type": "code",
   "execution_count": 68,
   "metadata": {},
   "outputs": [],
   "source": [
    "class Student():\n",
    "    courses = [\"СППР\", \"ІТ\", \"Бази даних\"]\n",
    "    age = 20\n",
    "    range = \"A\"\n",
    "\n",
    "    def have_a_birthday(self):\n",
    "        \"\"\"Метод, який збільшує вік екземпляру класу\"\"\"\n",
    "        self.age += 1"
   ]
  },
  {
   "cell_type": "code",
   "execution_count": null,
   "metadata": {},
   "outputs": [],
   "source": [
    "volodymyr = Student()\n",
    "volodymyr.age"
   ]
  },
  {
   "cell_type": "code",
   "execution_count": null,
   "metadata": {},
   "outputs": [],
   "source": [
    "volodymyr.have_a_birthday()\n",
    "volodymyr.age"
   ]
  },
  {
   "cell_type": "markdown",
   "metadata": {},
   "source": [
    "#### Завдання: \n",
    "1. Створити метод переводу студента на наступний курс навчання. Студент розпочинає навчання з 1-го курсу\n",
    "2. Після 5 років навчання видати інформацію про завершення навчання в університеті"
   ]
  },
  {
   "cell_type": "markdown",
   "metadata": {},
   "source": [
    "## Метод `__init__` "
   ]
  },
  {
   "cell_type": "code",
   "execution_count": 79,
   "metadata": {},
   "outputs": [],
   "source": [
    "class Student():\n",
    "    def __init__(self, courses, age, range):\n",
    "        \"\"\"\n",
    "        Опис того, що повинен робити клас  \n",
    "        при створенні екземпляру класу\n",
    "        __init__ - констурктор класу \n",
    "        self - спосіб опису екземплярів класу\n",
    "        \"\"\"\n",
    "        self.courses = courses\n",
    "        self.age = age\n",
    "        self.range = range\n",
    "\n",
    "    def have_a_birthday(self):\n",
    "        self.age += 1\n"
   ]
  },
  {
   "cell_type": "code",
   "execution_count": null,
   "metadata": {},
   "outputs": [],
   "source": [
    "volodymyr = Student([\"СППР\",\"Матматика\"],20,\"А\")\n",
    "volodymyr.courses, volodymyr.age, volodymyr.range"
   ]
  },
  {
   "cell_type": "code",
   "execution_count": 85,
   "metadata": {},
   "outputs": [],
   "source": [
    "petro = Student([\"Англійська мова\",\"Фізика\", \"СППР\"],19,\"В\")"
   ]
  },
  {
   "cell_type": "code",
   "execution_count": null,
   "metadata": {},
   "outputs": [],
   "source": [
    "volodymyr.courses, volodymyr.age, volodymyr.range"
   ]
  },
  {
   "cell_type": "code",
   "execution_count": null,
   "metadata": {},
   "outputs": [],
   "source": [
    "petro.courses, petro.age, petro.range"
   ]
  },
  {
   "cell_type": "code",
   "execution_count": null,
   "metadata": {},
   "outputs": [],
   "source": [
    "class University_Student:\n",
    "    def __init__(self, name , surname):\n",
    "        self.name = name\n",
    "        self.surname = surname\n",
    " \n",
    "\n",
    "student = University_Student()\n",
    "print(student.name, student.surname)"
   ]
  },
  {
   "cell_type": "markdown",
   "metadata": {},
   "source": [
    "## Метод `__del__` "
   ]
  },
  {
   "cell_type": "code",
   "execution_count": null,
   "metadata": {},
   "outputs": [],
   "source": [
    "class University_Student:\n",
    "    def __init__(self, name , surname):\n",
    "        self.name = name\n",
    "        self.surname = surname\n",
    "        print (\"Викликаний метод __init__()\")\n",
    "    def __del__(self):\n",
    "        print (\"Викликаний метод __del__()\")\n",
    "\n",
    "student1 = University_Student(\"Давід\", \"Закарян\")\n",
    "student2 = University_Student(\"Петро\", \"Ващук\")\n",
    "del student1\n",
    "print(student2.name)"
   ]
  },
  {
   "cell_type": "code",
   "execution_count": null,
   "metadata": {},
   "outputs": [],
   "source": [
    "print(student1.name)"
   ]
  },
  {
   "cell_type": "markdown",
   "metadata": {},
   "source": [
    "## Наслідування\n",
    "\n",
    "Класи можуть бути використані для створення нових класів "
   ]
  },
  {
   "cell_type": "code",
   "execution_count": 90,
   "metadata": {},
   "outputs": [],
   "source": [
    "class Math_Student_Community(Student):\n",
    "    \"\"\"\n",
    "    Клас Math_Student_Community є аналогічним базовому класу Student   \n",
    "    Функціональність породженого (дочірнього) класу є аналогічною базовому класу \n",
    "    Але, є пріоритет у вивченні дисципліни - Математика\n",
    "    \"\"\"\n",
    "    priority_class = \"Математика\""
   ]
  },
  {
   "cell_type": "code",
   "execution_count": null,
   "metadata": {},
   "outputs": [],
   "source": [
    "valery = Math_Student_Community([\"Математика\", \"Фізика\"], 19, \"B\")\n",
    "valery.courses, valery.age, valery.range, valery.priority_class"
   ]
  },
  {
   "cell_type": "code",
   "execution_count": null,
   "metadata": {},
   "outputs": [],
   "source": [
    "# Породжений клас має всі методи базового класу\n",
    "valery.have_a_birthday()\n",
    "valery.age"
   ]
  },
  {
   "cell_type": "code",
   "execution_count": 102,
   "metadata": {},
   "outputs": [],
   "source": [
    "#Для визначеного класу легкових автомобілів \n",
    "class Car:\n",
    "    model = 'легковий'\n",
    "    def __init__(self, name, age):\n",
    "        self.name = name\n",
    "        self.age = age\n",
    "# 1 Створити 4 екземпляра різних екземплярів легкових автомобілів \n",
    "\n",
    "# 2 Написати функцію знаходження найбільшого строку експлуатації серед створених екземплярів\n",
    "\n",
    "# 3 Роздрукувати результат \"Найстаріший автомобіль знаходився x років в експлуатації.\"  \n",
    "#                           x повинно бути отримано за допомогою функції п.#2"
   ]
  },
  {
   "cell_type": "code",
   "execution_count": null,
   "metadata": {},
   "outputs": [],
   "source": [
    "class Car:\n",
    "    model = 'легковий'\n",
    "    def __init__(self, name, age):\n",
    "        self.name = name\n",
    "        self.age = age\n",
    "\n",
    "\n",
    "# Створення 3 екземплярів класу Car\n",
    "bmw = Car(\"БМВ\", 3)\n",
    "mers = Car(\"Мерседес\", 5)\n",
    "ford = Car(\"Форд\", 1)\n",
    "zaz = Car(\"Запорожець\", 40)\n",
    "\n",
    "# Виявлення самого старого автомобіля\n",
    "def get_oldest_car(*args):\n",
    "    return max(args)\n",
    "\n",
    "\n",
    "# Результат \n",
    "print(f\"Найстаріший автомобіль знаходився {get_oldest_car(bmw.age, mers.age, ford.age, zaz.age)} років в експлуатації.\")"
   ]
  },
  {
   "cell_type": "code",
   "execution_count": null,
   "metadata": {},
   "outputs": [],
   "source": [
    "bmw1 = Car()"
   ]
  },
  {
   "cell_type": "code",
   "execution_count": null,
   "metadata": {},
   "outputs": [],
   "source": [
    "mers.model"
   ]
  },
  {
   "cell_type": "code",
   "execution_count": null,
   "metadata": {},
   "outputs": [],
   "source": [
    "bmw.model"
   ]
  },
  {
   "cell_type": "code",
   "execution_count": null,
   "metadata": {},
   "outputs": [],
   "source": [
    "ford.model"
   ]
  },
  {
   "cell_type": "code",
   "execution_count": null,
   "metadata": {},
   "outputs": [],
   "source": [
    "zaz.model"
   ]
  },
  {
   "cell_type": "markdown",
   "metadata": {},
   "source": [
    "##### Завдання: Роздрукувати марку найстарішого автомобіля "
   ]
  },
  {
   "cell_type": "code",
   "execution_count": null,
   "metadata": {},
   "outputs": [],
   "source": [
    "class Home_Pets():\n",
    "    animals = []\n",
    "    def __init__(self, animals):\n",
    "        self.animals = animals\n",
    "\n",
    "    def walk(self):\n",
    "        for animal in self.animals:\n",
    "            print(animal.walk())\n",
    "\n",
    "\n",
    "class Cat():\n",
    "    is_lazy = True\n",
    "\n",
    "    def __init__(self, name, age):\n",
    "        self.name = name\n",
    "        self.age = age\n",
    "\n",
    "    def walk(self):\n",
    "        return f'{self.name} тільки ходить направо та наліво'\n",
    "\n",
    "class Barsik(Cat):\n",
    "    def sing(self, year):\n",
    "        return f'{year}'\n",
    "\n",
    "class Lola(Cat):\n",
    "    def sing(self, year):\n",
    "        return f'{year}'\n",
    "\n",
    "#1 Створення Murka - нового класу кицьок Cat\n",
    "\n",
    "#2 Створення всього списку тварин на основі трьох класів породжуваних класів \n",
    "\n",
    "#3 Ініціалізація класу домашніх тварин з усіма класами кицьок \n",
    "\n",
    "#4 вивід результату застосування функції walk для всіх екземплярів класу домашніх тварин "
   ]
  },
  {
   "cell_type": "code",
   "execution_count": null,
   "metadata": {},
   "outputs": [],
   "source": [
    "class Home_Pets():\n",
    "    animals = []\n",
    "    def __init__(self, animals):\n",
    "        self.animals = animals\n",
    "\n",
    "    def walk(self):\n",
    "        for animal in self.animals:\n",
    "            print(animal.walk())\n",
    "\n",
    "\n",
    "class Cat():\n",
    "    is_lazy = True\n",
    "\n",
    "    def __init__(self, name, age):\n",
    "        self.name = name\n",
    "        self.age = age\n",
    "\n",
    "    def walk(self):\n",
    "        return f'{self.name} тільки ходить направо та наліво'\n",
    "\n",
    "class Barsik(Cat):\n",
    "    def sing(self, year):\n",
    "        return f'{year}'\n",
    "\n",
    "class Lola(Cat):\n",
    "    def sing(self, year):\n",
    "        return f'{year}'\n",
    "\n",
    "#1 Створення Murka - нового класу кицьок Cat\n",
    "class Murka(Cat):\n",
    "    def sing(self, year):\n",
    "        return f'{year}'\n",
    "\n",
    "#2 Створення всього списку тварин на основі трьох класів породжуваних класів \n",
    "my_cats = [Barsik('Барсик', 4), Lola('Лола', 21), Murka('Мурка', 1)]\n",
    "\n",
    "#3 Ініціалізація класу домашніх тварин з усіма класами кицьок \n",
    "my_pets = Home_Pets(my_cats)\n",
    "\n",
    "#4 вивід результату застосування функції walk для всіх екземплярів класу домашніх тварин \n",
    "my_pets.walk()"
   ]
  },
  {
   "cell_type": "code",
   "execution_count": 8,
   "metadata": {},
   "outputs": [],
   "source": [
    "my_cats = [Lola('Лола', 4), Murka('Барсик', 21), Barsik('Мурка', 1)]"
   ]
  },
  {
   "cell_type": "code",
   "execution_count": null,
   "metadata": {},
   "outputs": [],
   "source": [
    "my_pets = Home_Pets(my_cats)\n",
    "my_pets.walk()"
   ]
  },
  {
   "cell_type": "markdown",
   "metadata": {},
   "source": [
    "## Висновки \n",
    "\n",
    "- Класи\n",
    "- Атрибути класу\n",
    "- Методи класу\n",
    "- Наслідування\n",
    "\n",
    "## Переваги\n",
    "\n",
    "- Спрощене представлення\n",
    "- Mодульність\n",
    "- Moдифікація\n",
    "- Розширюваність\n",
    "- Повторне використання "
   ]
  },
  {
   "cell_type": "code",
   "execution_count": null,
   "metadata": {},
   "outputs": [],
   "source": []
  }
 ],
 "metadata": {
  "kernelspec": {
   "display_name": "Python 3",
   "language": "python",
   "name": "python3"
  },
  "language_info": {
   "codemirror_mode": {
    "name": "ipython",
    "version": 3
   },
   "file_extension": ".py",
   "mimetype": "text/x-python",
   "name": "python",
   "nbconvert_exporter": "python",
   "pygments_lexer": "ipython3",
   "version": "3.7.6"
  }
 },
 "nbformat": 4,
 "nbformat_minor": 4
}
