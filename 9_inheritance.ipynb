{
 "cells": [
  {
   "cell_type": "markdown",
   "metadata": {},
   "source": [
    "## Успадкування в об'єктно-орієнтованому програмуванні  "
   ]
  },
  {
   "cell_type": "markdown",
   "metadata": {},
   "source": [
    "**Успадкува́ння** (Inheritance, Наслідування) — механізм утворення нових класів на основі використання класів, створених раніше."
   ]
  },
  {
   "cell_type": "markdown",
   "metadata": {},
   "source": [
    "**Б.Страуструп** : Успадкування надає простий, гнучкий і ефективний спосіб для: \n",
    "1. Визначення для базового класу альтернативного інтерфейсу (повторне виконання коду без додаткового програмування)\n",
    "2. Визначення дочірнього класу шляхом додавання нових можливостей (методів) до базового класу без перепрограмування базового класу  "
   ]
  },
  {
   "cell_type": "markdown",
   "metadata": {},
   "source": [
    "![](./images/inh.png)"
   ]
  },
  {
   "cell_type": "markdown",
   "metadata": {},
   "source": [
    "## Визначення екземплярів класу "
   ]
  },
  {
   "cell_type": "code",
   "execution_count": null,
   "metadata": {},
   "outputs": [],
   "source": [
    "class Car:\n",
    "    def __init__(self,brand,volume):\n",
    "        self.brand = brand # Атрибути класу за допомогою конструктору класу присвоюється тут. Потім створюється екземпляр класу Car \n",
    "        self.volume = volume\n",
    "\n",
    "x = Car(brand=\"Мерседес\", volume=3.0)\n",
    "y = Car(brand=\"БМВ\", volume=5.0)\n",
    "print(x.brand, x.volume)\n",
    "print(y.brand, y.volume)\n",
    "\n",
    "# заміна двигуна на БМВ.\n",
    "y.volume = 6.0\n",
    "print(y.volume)\n",
    "\n",
    "# Встановлені атрибути класу визначають клас Car, незалежно від значень атрибутів.\n",
    "\n",
    "z = Car(brand=\"Невідома марка автомобілю\", volume=1000.0)\n",
    "print(z.brand, z.volume)"
   ]
  },
  {
   "cell_type": "markdown",
   "metadata": {},
   "source": [
    "## Визначення методів класу"
   ]
  },
  {
   "cell_type": "code",
   "execution_count": null,
   "metadata": {},
   "outputs": [],
   "source": [
    "# from math import pi \n",
    "class Circle:\n",
    "    pi = 3.14\n",
    "\n",
    "    def __init__(self,radius=1):    # створення окружності з радіусом за замовчуванням\n",
    "        self.radius = radius\n",
    "\n",
    "    def area(self):                 # визначення методу обчислення площі окружності на основі радіусу \n",
    "        return (self.radius ** 2) * Circle.pi\n",
    "\n",
    "    def setRadius(self,radius):     # визначення методу встановлення радіусу\n",
    "        self.radius = radius\n",
    "\n",
    "    def getRadius(self):            # визначення методу отримання радіусу\n",
    "        return self.radius\n",
    "\n",
    "x = Circle()\n",
    "print(x.area()) \n",
    "x.setRadius(3)\n",
    "print(x.getRadius())\n",
    "print(x.area())\n",
    "\n",
    "print(x.getRadius())\n",
    "\n",
    "# Прогнозований результат\n",
    "x.getRadius()"
   ]
  },
  {
   "cell_type": "markdown",
   "metadata": {},
   "source": [
    "\n",
    "# Завдання: \n",
    "# 1. Cтворити клас (будь-якої предметної галузі). Визначити 4 методи у створеному класі.\n",
    "# 2. Застосувати визначені методи до 3-х різних екземплярів класу. Провести інтерпретацію."
   ]
  },
  {
   "cell_type": "markdown",
   "metadata": {},
   "source": [
    "Тут __str__ , __len__ і __del__ є спеціальними методами\n",
    "(визначаються підкресленням). \n",
    "\n",
    "Вони дозволяють використовувати спеціальні функції **Python** для об’єктів, створених за допомогою визначеного класу"
   ]
  },
  {
   "cell_type": "code",
   "execution_count": null,
   "metadata": {},
   "outputs": [],
   "source": [
    "class Book:\n",
    "    def __init__(self,name,author,pages):\n",
    "        print(\"Моя перша книжка, яку я прочитав - 'Programming Python 5-th Edition by Mark Lutz' \")\n",
    "        self.name = name\n",
    "        self.author = author\n",
    "        self.pages = pages\n",
    "\n",
    "    def __str__(self):\n",
    "        return \"Name:%s, author:%s, pages:%d\" %(self.name, self.author,self.pages)\n",
    "\n",
    "    def __len__(self):\n",
    "        return self.pages\n",
    "\n",
    "    def __del__(self):\n",
    "        print(\"Посилання на книгу не існує\")\n",
    "\n",
    "x = Book(\"Programming Python\",\"Mark Lutz\",1552)\n",
    "print(x)\n",
    "print(len(x))\n",
    "del x\n",
    "\n",
    "# Прогнозований результат\n",
    "print(x)"
   ]
  },
  {
   "cell_type": "markdown",
   "metadata": {},
   "source": [
    "# Успадкування (наслдування, Inheritance) - це спосіб формування нових класів (нащадків) за допомогою вже визначених класів (предків). \n",
    "Новостворені класи називаються похідними класами, а класи, з яких ми походить, називаються базовими класами.\n",
    "Повторне використання коду.\n",
    "\n",
    "# Інтерпретація \n",
    "Визначені два класи Animal (базовий клас) і Dog (успадкований клас)\n",
    "Успадкований клас змінює існуючий світ тварин базового класу (name ())\n",
    "Успадкований клас розширює функціональність базового класу Animal шляхом визначення нового методу bark()"
   ]
  },
  {
   "cell_type": "code",
   "execution_count": null,
   "metadata": {},
   "outputs": [],
   "source": [
    "class Animal:\n",
    "    def __init__(self):\n",
    "        print(\"Тваринний світ\")\n",
    "\n",
    "    def name(self):\n",
    "        print(\"Тут знаходяться тварини\")\n",
    "\n",
    "    def eat(self):\n",
    "        print(\"Час приймати їжу\")\n",
    "\n",
    "class Dog(Animal):\n",
    "    def __init__(self):\n",
    "        Animal.__init__(self)\n",
    "        print(\"Світ собак\")\n",
    "\n",
    "    def name(self):\n",
    "        print(\"Тут знаходяться собаки\")\n",
    "\n",
    "    def bark(self):\n",
    "        print(\"Час подавати голос: гав-гав \")\n",
    "\n",
    "x = Dog()\n",
    "x.name()\n",
    "x.eat()\n",
    "x.bark()\n",
    "\n",
    "# Який прогнозується результат використання наступних команд ?\n",
    "y = Animal()\n",
    "y.bark()"
   ]
  },
  {
   "cell_type": "markdown",
   "metadata": {},
   "source": [
    "### Завдання:\n",
    "### 3. Створити один базовий клас з 3-ма власними методами.\n",
    "### 4. Створити успадкований клас з 2-ма іншими методами (ніж у базовому класі) на основі базового класу\n",
    "### 5. Створити 2 екземпляри успадкованого класу. Застосувати до цих екземплярів: 1 метод базового класу і 1 метод успадкованого класу. Методи базового і успадкованого класу повинні бути різними для різних екземплярів класу. \n",
    "### Провести гейміфіковану інтерпретацію виконання коду. "
   ]
  },
  {
   "cell_type": "markdown",
   "metadata": {},
   "source": [
    "# Одинак - шаблон проектування (singleton)\n",
    "Гарантує, що клас матиме тільки **один** екземпляр і **одну** глобальну точку доступу до нього"
   ]
  },
  {
   "cell_type": "code",
   "execution_count": 42,
   "metadata": {},
   "outputs": [],
   "source": [
    "class OnlyOne:\n",
    "    class __OnlyOne:\n",
    "        def __init__(self, arg):\n",
    "            self.val = arg\n",
    "        def __str__(self):\n",
    "            return repr(self) + self.val\n",
    "    instance = None\n",
    "    def __init__(self, arg):\n",
    "        if not OnlyOne.instance:\n",
    "            OnlyOne.instance = OnlyOne.__OnlyOne(arg)\n",
    "        else:\n",
    "            OnlyOne.instance.val = arg\n",
    "    def __getattr__(self, name):\n",
    "        return getattr(self.instance, name)\n",
    "\n",
    "x = OnlyOne('Книги')\n",
    "print(x)\n",
    "#y = OnlyOne('Автомобілі')\n",
    "#print(y)\n",
    "#z = OnlyOne('Наука')\n",
    "##print(z)\n",
    "\n",
    "# Прогнозований результат:\n",
    "#x = OnlyOne('Велосипеди')\n",
    "#print(x)\n",
    "#y = OnlyOne('Автобуси')\n",
    "#print(y)\n",
    "#z = OnlyOne('Практика')\n",
    "#print(z)"
   ]
  },
  {
   "cell_type": "code",
   "execution_count": null,
   "metadata": {},
   "outputs": [],
   "source": [
    "class OnlyOne(object):\n",
    "    class __OnlyOne:\n",
    "        def __init__(self):\n",
    "            self.val = None\n",
    "        def __str__(self):\n",
    "            return 'self' + self.val\n",
    "    instance = None\n",
    "    def __new__(cls): # __new__ завжди метод класу \n",
    "        if not OnlyOne.instance:\n",
    "            OnlyOne.instance = OnlyOne.__OnlyOne()\n",
    "        return OnlyOne.instance\n",
    "    def __getattr__(self, name):\n",
    "        return getattr(self.instance, name)\n",
    "    def __setattr__(self, name):\n",
    "        return setattr(self.instance, name)\n",
    "\n",
    "x = OnlyOne()\n",
    "x.val = 'Книги'\n",
    "print(x)\n",
    "y = OnlyOne()\n",
    "y.val = 'Автомобілі'\n",
    "print(y)\n",
    "z = OnlyOne()\n",
    "z.val = 'Наука'\n",
    "print(z)\n",
    "#print(x)\n",
    "#print(y)"
   ]
  }
 ],
 "metadata": {
  "kernelspec": {
   "display_name": "Python 3",
   "language": "python",
   "name": "python3"
  },
  "language_info": {
   "codemirror_mode": {
    "name": "ipython",
    "version": 3
   },
   "file_extension": ".py",
   "mimetype": "text/x-python",
   "name": "python",
   "nbconvert_exporter": "python",
   "pygments_lexer": "ipython3",
   "version": "3.7.6"
  }
 },
 "nbformat": 4,
 "nbformat_minor": 4
}
